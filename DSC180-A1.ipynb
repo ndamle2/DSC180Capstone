{
 "cells": [
  {
   "cell_type": "markdown",
   "metadata": {},
   "source": [
    "## SETUP"
   ]
  },
  {
   "cell_type": "code",
   "execution_count": 1,
   "metadata": {},
   "outputs": [],
   "source": [
    "import networkx as nx\n",
    "import pandas as pd"
   ]
  },
  {
   "cell_type": "code",
   "execution_count": 2,
   "metadata": {},
   "outputs": [],
   "source": [
    "df = pd.read_csv('edges.csv')\n",
    "station_info = pd.read_csv('MTA_Subway_Stations_updated.csv')"
   ]
  },
  {
   "cell_type": "code",
   "execution_count": 3,
   "metadata": {},
   "outputs": [
    {
     "data": {
      "text/html": [
       "<div>\n",
       "<style scoped>\n",
       "    .dataframe tbody tr th:only-of-type {\n",
       "        vertical-align: middle;\n",
       "    }\n",
       "\n",
       "    .dataframe tbody tr th {\n",
       "        vertical-align: top;\n",
       "    }\n",
       "\n",
       "    .dataframe thead th {\n",
       "        text-align: right;\n",
       "    }\n",
       "</style>\n",
       "<table border=\"1\" class=\"dataframe\">\n",
       "  <thead>\n",
       "    <tr style=\"text-align: right;\">\n",
       "      <th></th>\n",
       "      <th>Year</th>\n",
       "      <th>Month</th>\n",
       "      <th>Day of Week</th>\n",
       "      <th>Hour of Day</th>\n",
       "      <th>Timestamp</th>\n",
       "      <th>Origin Station Complex ID</th>\n",
       "      <th>Origin Station Complex Name</th>\n",
       "      <th>Origin Latitude</th>\n",
       "      <th>Origin Longitude</th>\n",
       "      <th>Destination Station Complex ID</th>\n",
       "      <th>Destination Station Complex Name</th>\n",
       "      <th>Destination Latitude</th>\n",
       "      <th>Destination Longitude</th>\n",
       "      <th>Estimated Average Ridership</th>\n",
       "      <th>Origin Point</th>\n",
       "      <th>Destination Point</th>\n",
       "    </tr>\n",
       "  </thead>\n",
       "  <tbody>\n",
       "    <tr>\n",
       "      <th>0</th>\n",
       "      <td>2024</td>\n",
       "      <td>1</td>\n",
       "      <td>Monday</td>\n",
       "      <td>1</td>\n",
       "      <td>01/08/2024 01:00:00 AM</td>\n",
       "      <td>26</td>\n",
       "      <td>DeKalb Av (B,Q,R)</td>\n",
       "      <td>40.690635</td>\n",
       "      <td>-73.981824</td>\n",
       "      <td>355</td>\n",
       "      <td>Winthrop St (2,5)</td>\n",
       "      <td>40.656652</td>\n",
       "      <td>-73.950200</td>\n",
       "      <td>0.5556</td>\n",
       "      <td>POINT (-73.981824 40.690635)</td>\n",
       "      <td>POINT (-73.9502 40.656652)</td>\n",
       "    </tr>\n",
       "    <tr>\n",
       "      <th>1</th>\n",
       "      <td>2024</td>\n",
       "      <td>1</td>\n",
       "      <td>Monday</td>\n",
       "      <td>1</td>\n",
       "      <td>01/08/2024 01:00:00 AM</td>\n",
       "      <td>231</td>\n",
       "      <td>Grand St (B,D)</td>\n",
       "      <td>40.718267</td>\n",
       "      <td>-73.993753</td>\n",
       "      <td>284</td>\n",
       "      <td>Nassau Av (G)</td>\n",
       "      <td>40.724635</td>\n",
       "      <td>-73.951277</td>\n",
       "      <td>0.3068</td>\n",
       "      <td>POINT (-73.993753 40.718267)</td>\n",
       "      <td>POINT (-73.951277 40.724635)</td>\n",
       "    </tr>\n",
       "    <tr>\n",
       "      <th>2</th>\n",
       "      <td>2024</td>\n",
       "      <td>1</td>\n",
       "      <td>Monday</td>\n",
       "      <td>1</td>\n",
       "      <td>01/08/2024 01:00:00 AM</td>\n",
       "      <td>313</td>\n",
       "      <td>72 St (1,2,3)</td>\n",
       "      <td>40.778453</td>\n",
       "      <td>-73.981970</td>\n",
       "      <td>71</td>\n",
       "      <td>8 Av (N)</td>\n",
       "      <td>40.635064</td>\n",
       "      <td>-74.011719</td>\n",
       "      <td>0.3012</td>\n",
       "      <td>POINT (-73.98197 40.778453)</td>\n",
       "      <td>POINT (-74.011719 40.635064)</td>\n",
       "    </tr>\n",
       "    <tr>\n",
       "      <th>3</th>\n",
       "      <td>2024</td>\n",
       "      <td>1</td>\n",
       "      <td>Monday</td>\n",
       "      <td>1</td>\n",
       "      <td>01/08/2024 01:00:00 AM</td>\n",
       "      <td>320</td>\n",
       "      <td>23 St (1)</td>\n",
       "      <td>40.744081</td>\n",
       "      <td>-73.995657</td>\n",
       "      <td>309</td>\n",
       "      <td>103 St (1)</td>\n",
       "      <td>40.799446</td>\n",
       "      <td>-73.968379</td>\n",
       "      <td>0.9000</td>\n",
       "      <td>POINT (-73.995657 40.744081)</td>\n",
       "      <td>POINT (-73.968379 40.799446)</td>\n",
       "    </tr>\n",
       "    <tr>\n",
       "      <th>4</th>\n",
       "      <td>2024</td>\n",
       "      <td>1</td>\n",
       "      <td>Monday</td>\n",
       "      <td>1</td>\n",
       "      <td>01/08/2024 01:00:00 AM</td>\n",
       "      <td>399</td>\n",
       "      <td>68 St-Hunter College (6)</td>\n",
       "      <td>40.768141</td>\n",
       "      <td>-73.963870</td>\n",
       "      <td>618</td>\n",
       "      <td>14 St (A,C,E)/8 Av (L)</td>\n",
       "      <td>40.740335</td>\n",
       "      <td>-74.002134</td>\n",
       "      <td>0.2940</td>\n",
       "      <td>POINT (-73.96387 40.768141)</td>\n",
       "      <td>POINT (-74.002134 40.740335)</td>\n",
       "    </tr>\n",
       "    <tr>\n",
       "      <th>...</th>\n",
       "      <td>...</td>\n",
       "      <td>...</td>\n",
       "      <td>...</td>\n",
       "      <td>...</td>\n",
       "      <td>...</td>\n",
       "      <td>...</td>\n",
       "      <td>...</td>\n",
       "      <td>...</td>\n",
       "      <td>...</td>\n",
       "      <td>...</td>\n",
       "      <td>...</td>\n",
       "      <td>...</td>\n",
       "      <td>...</td>\n",
       "      <td>...</td>\n",
       "      <td>...</td>\n",
       "      <td>...</td>\n",
       "    </tr>\n",
       "    <tr>\n",
       "      <th>9169120</th>\n",
       "      <td>2024</td>\n",
       "      <td>1</td>\n",
       "      <td>Sunday</td>\n",
       "      <td>12</td>\n",
       "      <td>01/14/2024 12:00:00 PM</td>\n",
       "      <td>426</td>\n",
       "      <td>E 180 St (2,5)</td>\n",
       "      <td>40.841894</td>\n",
       "      <td>-73.873488</td>\n",
       "      <td>379</td>\n",
       "      <td>Mosholu Pkwy (4)</td>\n",
       "      <td>40.879750</td>\n",
       "      <td>-73.884655</td>\n",
       "      <td>0.3322</td>\n",
       "      <td>POINT (-73.873488 40.841894)</td>\n",
       "      <td>POINT (-73.884655 40.87975)</td>\n",
       "    </tr>\n",
       "    <tr>\n",
       "      <th>9169121</th>\n",
       "      <td>2024</td>\n",
       "      <td>1</td>\n",
       "      <td>Sunday</td>\n",
       "      <td>12</td>\n",
       "      <td>01/14/2024 12:00:00 PM</td>\n",
       "      <td>427</td>\n",
       "      <td>West Farms Sq-E Tremont Av (2,5)</td>\n",
       "      <td>40.840295</td>\n",
       "      <td>-73.880049</td>\n",
       "      <td>613</td>\n",
       "      <td>Lexington Av (N,R,W)/59 St (4,5,6)</td>\n",
       "      <td>40.762593</td>\n",
       "      <td>-73.967613</td>\n",
       "      <td>0.7305</td>\n",
       "      <td>POINT (-73.880049 40.840295)</td>\n",
       "      <td>POINT (-73.967613 40.762593)</td>\n",
       "    </tr>\n",
       "    <tr>\n",
       "      <th>9169122</th>\n",
       "      <td>2024</td>\n",
       "      <td>1</td>\n",
       "      <td>Sunday</td>\n",
       "      <td>12</td>\n",
       "      <td>01/14/2024 12:00:00 PM</td>\n",
       "      <td>32</td>\n",
       "      <td>36 St (D,N,R)</td>\n",
       "      <td>40.655144</td>\n",
       "      <td>-74.003549</td>\n",
       "      <td>263</td>\n",
       "      <td>63 Dr-Rego Park (M,R)</td>\n",
       "      <td>40.729846</td>\n",
       "      <td>-73.861604</td>\n",
       "      <td>0.3130</td>\n",
       "      <td>POINT (-74.003549 40.655144)</td>\n",
       "      <td>POINT (-73.861604 40.729846)</td>\n",
       "    </tr>\n",
       "    <tr>\n",
       "      <th>9169123</th>\n",
       "      <td>2024</td>\n",
       "      <td>1</td>\n",
       "      <td>Sunday</td>\n",
       "      <td>12</td>\n",
       "      <td>01/14/2024 12:00:00 PM</td>\n",
       "      <td>324</td>\n",
       "      <td>Houston St (1)</td>\n",
       "      <td>40.728251</td>\n",
       "      <td>-74.005367</td>\n",
       "      <td>407</td>\n",
       "      <td>Astor Pl (6)</td>\n",
       "      <td>40.730054</td>\n",
       "      <td>-73.991070</td>\n",
       "      <td>0.8602</td>\n",
       "      <td>POINT (-74.005367 40.728251)</td>\n",
       "      <td>POINT (-73.99107 40.730054)</td>\n",
       "    </tr>\n",
       "    <tr>\n",
       "      <th>9169124</th>\n",
       "      <td>2024</td>\n",
       "      <td>1</td>\n",
       "      <td>Sunday</td>\n",
       "      <td>12</td>\n",
       "      <td>01/14/2024 12:00:00 PM</td>\n",
       "      <td>606</td>\n",
       "      <td>Court Sq (E,G,M,7)</td>\n",
       "      <td>40.747141</td>\n",
       "      <td>-73.945032</td>\n",
       "      <td>145</td>\n",
       "      <td>190 St (A)</td>\n",
       "      <td>40.859022</td>\n",
       "      <td>-73.934180</td>\n",
       "      <td>0.9110</td>\n",
       "      <td>POINT (-73.945032 40.747141)</td>\n",
       "      <td>POINT (-73.93418 40.859022)</td>\n",
       "    </tr>\n",
       "  </tbody>\n",
       "</table>\n",
       "<p>9169125 rows × 16 columns</p>\n",
       "</div>"
      ],
      "text/plain": [
       "         Year  Month Day of Week  Hour of Day               Timestamp  \\\n",
       "0        2024      1      Monday            1  01/08/2024 01:00:00 AM   \n",
       "1        2024      1      Monday            1  01/08/2024 01:00:00 AM   \n",
       "2        2024      1      Monday            1  01/08/2024 01:00:00 AM   \n",
       "3        2024      1      Monday            1  01/08/2024 01:00:00 AM   \n",
       "4        2024      1      Monday            1  01/08/2024 01:00:00 AM   \n",
       "...       ...    ...         ...          ...                     ...   \n",
       "9169120  2024      1      Sunday           12  01/14/2024 12:00:00 PM   \n",
       "9169121  2024      1      Sunday           12  01/14/2024 12:00:00 PM   \n",
       "9169122  2024      1      Sunday           12  01/14/2024 12:00:00 PM   \n",
       "9169123  2024      1      Sunday           12  01/14/2024 12:00:00 PM   \n",
       "9169124  2024      1      Sunday           12  01/14/2024 12:00:00 PM   \n",
       "\n",
       "         Origin Station Complex ID       Origin Station Complex Name  \\\n",
       "0                               26                 DeKalb Av (B,Q,R)   \n",
       "1                              231                    Grand St (B,D)   \n",
       "2                              313                     72 St (1,2,3)   \n",
       "3                              320                         23 St (1)   \n",
       "4                              399          68 St-Hunter College (6)   \n",
       "...                            ...                               ...   \n",
       "9169120                        426                    E 180 St (2,5)   \n",
       "9169121                        427  West Farms Sq-E Tremont Av (2,5)   \n",
       "9169122                         32                     36 St (D,N,R)   \n",
       "9169123                        324                    Houston St (1)   \n",
       "9169124                        606                Court Sq (E,G,M,7)   \n",
       "\n",
       "         Origin Latitude  Origin Longitude  Destination Station Complex ID  \\\n",
       "0              40.690635        -73.981824                             355   \n",
       "1              40.718267        -73.993753                             284   \n",
       "2              40.778453        -73.981970                              71   \n",
       "3              40.744081        -73.995657                             309   \n",
       "4              40.768141        -73.963870                             618   \n",
       "...                  ...               ...                             ...   \n",
       "9169120        40.841894        -73.873488                             379   \n",
       "9169121        40.840295        -73.880049                             613   \n",
       "9169122        40.655144        -74.003549                             263   \n",
       "9169123        40.728251        -74.005367                             407   \n",
       "9169124        40.747141        -73.945032                             145   \n",
       "\n",
       "           Destination Station Complex Name  Destination Latitude  \\\n",
       "0                         Winthrop St (2,5)             40.656652   \n",
       "1                             Nassau Av (G)             40.724635   \n",
       "2                                  8 Av (N)             40.635064   \n",
       "3                                103 St (1)             40.799446   \n",
       "4                    14 St (A,C,E)/8 Av (L)             40.740335   \n",
       "...                                     ...                   ...   \n",
       "9169120                    Mosholu Pkwy (4)             40.879750   \n",
       "9169121  Lexington Av (N,R,W)/59 St (4,5,6)             40.762593   \n",
       "9169122               63 Dr-Rego Park (M,R)             40.729846   \n",
       "9169123                        Astor Pl (6)             40.730054   \n",
       "9169124                          190 St (A)             40.859022   \n",
       "\n",
       "         Destination Longitude  Estimated Average Ridership  \\\n",
       "0                   -73.950200                       0.5556   \n",
       "1                   -73.951277                       0.3068   \n",
       "2                   -74.011719                       0.3012   \n",
       "3                   -73.968379                       0.9000   \n",
       "4                   -74.002134                       0.2940   \n",
       "...                        ...                          ...   \n",
       "9169120             -73.884655                       0.3322   \n",
       "9169121             -73.967613                       0.7305   \n",
       "9169122             -73.861604                       0.3130   \n",
       "9169123             -73.991070                       0.8602   \n",
       "9169124             -73.934180                       0.9110   \n",
       "\n",
       "                         Origin Point             Destination Point  \n",
       "0        POINT (-73.981824 40.690635)    POINT (-73.9502 40.656652)  \n",
       "1        POINT (-73.993753 40.718267)  POINT (-73.951277 40.724635)  \n",
       "2         POINT (-73.98197 40.778453)  POINT (-74.011719 40.635064)  \n",
       "3        POINT (-73.995657 40.744081)  POINT (-73.968379 40.799446)  \n",
       "4         POINT (-73.96387 40.768141)  POINT (-74.002134 40.740335)  \n",
       "...                               ...                           ...  \n",
       "9169120  POINT (-73.873488 40.841894)   POINT (-73.884655 40.87975)  \n",
       "9169121  POINT (-73.880049 40.840295)  POINT (-73.967613 40.762593)  \n",
       "9169122  POINT (-74.003549 40.655144)  POINT (-73.861604 40.729846)  \n",
       "9169123  POINT (-74.005367 40.728251)   POINT (-73.99107 40.730054)  \n",
       "9169124  POINT (-73.945032 40.747141)   POINT (-73.93418 40.859022)  \n",
       "\n",
       "[9169125 rows x 16 columns]"
      ]
     },
     "metadata": {},
     "output_type": "display_data"
    }
   ],
   "source": [
    "display(df)"
   ]
  },
  {
   "cell_type": "code",
   "execution_count": 4,
   "metadata": {},
   "outputs": [
    {
     "data": {
      "text/html": [
       "<div>\n",
       "<style scoped>\n",
       "    .dataframe tbody tr th:only-of-type {\n",
       "        vertical-align: middle;\n",
       "    }\n",
       "\n",
       "    .dataframe tbody tr th {\n",
       "        vertical-align: top;\n",
       "    }\n",
       "\n",
       "    .dataframe thead th {\n",
       "        text-align: right;\n",
       "    }\n",
       "</style>\n",
       "<table border=\"1\" class=\"dataframe\">\n",
       "  <thead>\n",
       "    <tr style=\"text-align: right;\">\n",
       "      <th></th>\n",
       "      <th>Complex ID</th>\n",
       "      <th>Borough</th>\n",
       "    </tr>\n",
       "  </thead>\n",
       "  <tbody>\n",
       "    <tr>\n",
       "      <th>0</th>\n",
       "      <td>1</td>\n",
       "      <td>Q</td>\n",
       "    </tr>\n",
       "    <tr>\n",
       "      <th>1</th>\n",
       "      <td>2</td>\n",
       "      <td>Q</td>\n",
       "    </tr>\n",
       "    <tr>\n",
       "      <th>2</th>\n",
       "      <td>3</td>\n",
       "      <td>Q</td>\n",
       "    </tr>\n",
       "    <tr>\n",
       "      <th>3</th>\n",
       "      <td>4</td>\n",
       "      <td>Q</td>\n",
       "    </tr>\n",
       "    <tr>\n",
       "      <th>4</th>\n",
       "      <td>5</td>\n",
       "      <td>Q</td>\n",
       "    </tr>\n",
       "    <tr>\n",
       "      <th>...</th>\n",
       "      <td>...</td>\n",
       "      <td>...</td>\n",
       "    </tr>\n",
       "    <tr>\n",
       "      <th>491</th>\n",
       "      <td>517</td>\n",
       "      <td>SI</td>\n",
       "    </tr>\n",
       "    <tr>\n",
       "      <th>492</th>\n",
       "      <td>518</td>\n",
       "      <td>SI</td>\n",
       "    </tr>\n",
       "    <tr>\n",
       "      <th>493</th>\n",
       "      <td>519</td>\n",
       "      <td>SI</td>\n",
       "    </tr>\n",
       "    <tr>\n",
       "      <th>494</th>\n",
       "      <td>522</td>\n",
       "      <td>SI</td>\n",
       "    </tr>\n",
       "    <tr>\n",
       "      <th>495</th>\n",
       "      <td>523</td>\n",
       "      <td>SI</td>\n",
       "    </tr>\n",
       "  </tbody>\n",
       "</table>\n",
       "<p>496 rows × 2 columns</p>\n",
       "</div>"
      ],
      "text/plain": [
       "     Complex ID Borough\n",
       "0             1       Q\n",
       "1             2       Q\n",
       "2             3       Q\n",
       "3             4       Q\n",
       "4             5       Q\n",
       "..          ...     ...\n",
       "491         517      SI\n",
       "492         518      SI\n",
       "493         519      SI\n",
       "494         522      SI\n",
       "495         523      SI\n",
       "\n",
       "[496 rows x 2 columns]"
      ]
     },
     "metadata": {},
     "output_type": "display_data"
    }
   ],
   "source": [
    "station_info = station_info[['Complex ID', 'Borough']]\n",
    "display(station_info)"
   ]
  },
  {
   "cell_type": "code",
   "execution_count": 5,
   "metadata": {},
   "outputs": [
    {
     "data": {
      "text/html": [
       "<div>\n",
       "<style scoped>\n",
       "    .dataframe tbody tr th:only-of-type {\n",
       "        vertical-align: middle;\n",
       "    }\n",
       "\n",
       "    .dataframe tbody tr th {\n",
       "        vertical-align: top;\n",
       "    }\n",
       "\n",
       "    .dataframe thead th {\n",
       "        text-align: right;\n",
       "    }\n",
       "</style>\n",
       "<table border=\"1\" class=\"dataframe\">\n",
       "  <thead>\n",
       "    <tr style=\"text-align: right;\">\n",
       "      <th></th>\n",
       "      <th>Origin Station Complex Name</th>\n",
       "      <th>Destination Station Complex Name</th>\n",
       "      <th>Day of Week</th>\n",
       "      <th>Hour of Day</th>\n",
       "      <th>Estimated Average Ridership</th>\n",
       "      <th>Origin Borough</th>\n",
       "      <th>Destination Borough</th>\n",
       "    </tr>\n",
       "  </thead>\n",
       "  <tbody>\n",
       "    <tr>\n",
       "      <th>0</th>\n",
       "      <td>DeKalb Av (B,Q,R)</td>\n",
       "      <td>Winthrop St (2,5)</td>\n",
       "      <td>Monday</td>\n",
       "      <td>1</td>\n",
       "      <td>0.5556</td>\n",
       "      <td>Bk</td>\n",
       "      <td>Bk</td>\n",
       "    </tr>\n",
       "    <tr>\n",
       "      <th>1</th>\n",
       "      <td>Grand St (B,D)</td>\n",
       "      <td>Nassau Av (G)</td>\n",
       "      <td>Monday</td>\n",
       "      <td>1</td>\n",
       "      <td>0.3068</td>\n",
       "      <td>M</td>\n",
       "      <td>Bk</td>\n",
       "    </tr>\n",
       "    <tr>\n",
       "      <th>2</th>\n",
       "      <td>72 St (1,2,3)</td>\n",
       "      <td>8 Av (N)</td>\n",
       "      <td>Monday</td>\n",
       "      <td>1</td>\n",
       "      <td>0.3012</td>\n",
       "      <td>M</td>\n",
       "      <td>Bk</td>\n",
       "    </tr>\n",
       "    <tr>\n",
       "      <th>3</th>\n",
       "      <td>23 St (1)</td>\n",
       "      <td>103 St (1)</td>\n",
       "      <td>Monday</td>\n",
       "      <td>1</td>\n",
       "      <td>0.9000</td>\n",
       "      <td>M</td>\n",
       "      <td>M</td>\n",
       "    </tr>\n",
       "    <tr>\n",
       "      <th>4</th>\n",
       "      <td>68 St-Hunter College (6)</td>\n",
       "      <td>14 St (A,C,E)/8 Av (L)</td>\n",
       "      <td>Monday</td>\n",
       "      <td>1</td>\n",
       "      <td>0.2940</td>\n",
       "      <td>M</td>\n",
       "      <td>M</td>\n",
       "    </tr>\n",
       "    <tr>\n",
       "      <th>...</th>\n",
       "      <td>...</td>\n",
       "      <td>...</td>\n",
       "      <td>...</td>\n",
       "      <td>...</td>\n",
       "      <td>...</td>\n",
       "      <td>...</td>\n",
       "      <td>...</td>\n",
       "    </tr>\n",
       "    <tr>\n",
       "      <th>13922070</th>\n",
       "      <td>36 St (D,N,R)</td>\n",
       "      <td>63 Dr-Rego Park (M,R)</td>\n",
       "      <td>Sunday</td>\n",
       "      <td>12</td>\n",
       "      <td>0.3130</td>\n",
       "      <td>Bk</td>\n",
       "      <td>Q</td>\n",
       "    </tr>\n",
       "    <tr>\n",
       "      <th>13922071</th>\n",
       "      <td>Houston St (1)</td>\n",
       "      <td>Astor Pl (6)</td>\n",
       "      <td>Sunday</td>\n",
       "      <td>12</td>\n",
       "      <td>0.8602</td>\n",
       "      <td>M</td>\n",
       "      <td>M</td>\n",
       "    </tr>\n",
       "    <tr>\n",
       "      <th>13922072</th>\n",
       "      <td>Court Sq (E,G,M,7)</td>\n",
       "      <td>190 St (A)</td>\n",
       "      <td>Sunday</td>\n",
       "      <td>12</td>\n",
       "      <td>0.9110</td>\n",
       "      <td>Q</td>\n",
       "      <td>M</td>\n",
       "    </tr>\n",
       "    <tr>\n",
       "      <th>13922073</th>\n",
       "      <td>Court Sq (E,G,M,7)</td>\n",
       "      <td>190 St (A)</td>\n",
       "      <td>Sunday</td>\n",
       "      <td>12</td>\n",
       "      <td>0.9110</td>\n",
       "      <td>Q</td>\n",
       "      <td>M</td>\n",
       "    </tr>\n",
       "    <tr>\n",
       "      <th>13922074</th>\n",
       "      <td>Court Sq (E,G,M,7)</td>\n",
       "      <td>190 St (A)</td>\n",
       "      <td>Sunday</td>\n",
       "      <td>12</td>\n",
       "      <td>0.9110</td>\n",
       "      <td>Q</td>\n",
       "      <td>M</td>\n",
       "    </tr>\n",
       "  </tbody>\n",
       "</table>\n",
       "<p>13922075 rows × 7 columns</p>\n",
       "</div>"
      ],
      "text/plain": [
       "         Origin Station Complex Name Destination Station Complex Name  \\\n",
       "0                  DeKalb Av (B,Q,R)                Winthrop St (2,5)   \n",
       "1                     Grand St (B,D)                    Nassau Av (G)   \n",
       "2                      72 St (1,2,3)                         8 Av (N)   \n",
       "3                          23 St (1)                       103 St (1)   \n",
       "4           68 St-Hunter College (6)           14 St (A,C,E)/8 Av (L)   \n",
       "...                              ...                              ...   \n",
       "13922070               36 St (D,N,R)            63 Dr-Rego Park (M,R)   \n",
       "13922071              Houston St (1)                     Astor Pl (6)   \n",
       "13922072          Court Sq (E,G,M,7)                       190 St (A)   \n",
       "13922073          Court Sq (E,G,M,7)                       190 St (A)   \n",
       "13922074          Court Sq (E,G,M,7)                       190 St (A)   \n",
       "\n",
       "         Day of Week  Hour of Day  Estimated Average Ridership Origin Borough  \\\n",
       "0             Monday            1                       0.5556             Bk   \n",
       "1             Monday            1                       0.3068              M   \n",
       "2             Monday            1                       0.3012              M   \n",
       "3             Monday            1                       0.9000              M   \n",
       "4             Monday            1                       0.2940              M   \n",
       "...              ...          ...                          ...            ...   \n",
       "13922070      Sunday           12                       0.3130             Bk   \n",
       "13922071      Sunday           12                       0.8602              M   \n",
       "13922072      Sunday           12                       0.9110              Q   \n",
       "13922073      Sunday           12                       0.9110              Q   \n",
       "13922074      Sunday           12                       0.9110              Q   \n",
       "\n",
       "         Destination Borough  \n",
       "0                         Bk  \n",
       "1                         Bk  \n",
       "2                         Bk  \n",
       "3                          M  \n",
       "4                          M  \n",
       "...                      ...  \n",
       "13922070                   Q  \n",
       "13922071                   M  \n",
       "13922072                   M  \n",
       "13922073                   M  \n",
       "13922074                   M  \n",
       "\n",
       "[13922075 rows x 7 columns]"
      ]
     },
     "metadata": {},
     "output_type": "display_data"
    }
   ],
   "source": [
    "df2 = df\n",
    "\n",
    "df2 = pd.merge(left=df2, right=station_info, left_on='Origin Station Complex ID', right_on='Complex ID', how='left')\n",
    "df2 = pd.merge(left=df2, right=station_info, left_on='Destination Station Complex ID', right_on='Complex ID', how='left')\n",
    "df2 = df2.rename(columns={'Borough_x': 'Origin Borough', 'Borough_y': 'Destination Borough'})\n",
    "df2 = df2[['Origin Station Complex Name', 'Destination Station Complex Name', 'Day of Week', 'Hour of Day', 'Estimated Average Ridership', 'Origin Borough', 'Destination Borough']]\n",
    "display(df2)"
   ]
  },
  {
   "cell_type": "code",
   "execution_count": 6,
   "metadata": {},
   "outputs": [
    {
     "data": {
      "text/html": [
       "<div>\n",
       "<style scoped>\n",
       "    .dataframe tbody tr th:only-of-type {\n",
       "        vertical-align: middle;\n",
       "    }\n",
       "\n",
       "    .dataframe tbody tr th {\n",
       "        vertical-align: top;\n",
       "    }\n",
       "\n",
       "    .dataframe thead th {\n",
       "        text-align: right;\n",
       "    }\n",
       "</style>\n",
       "<table border=\"1\" class=\"dataframe\">\n",
       "  <thead>\n",
       "    <tr style=\"text-align: right;\">\n",
       "      <th></th>\n",
       "      <th>Origin Station Complex Name</th>\n",
       "      <th>Destination Station Complex Name</th>\n",
       "      <th>Day of Week</th>\n",
       "      <th>Hour of Day</th>\n",
       "      <th>Origin Borough</th>\n",
       "      <th>Destination Borough</th>\n",
       "      <th>Estimated Average Ridership</th>\n",
       "      <th>edge_key</th>\n",
       "    </tr>\n",
       "  </thead>\n",
       "  <tbody>\n",
       "    <tr>\n",
       "      <th>0</th>\n",
       "      <td>Grand Central-42 St (S,4,5,6,7)</td>\n",
       "      <td>Fulton St (A,C,J,Z,2,3,4,5)</td>\n",
       "      <td>Wednesday</td>\n",
       "      <td>8</td>\n",
       "      <td>M</td>\n",
       "      <td>M</td>\n",
       "      <td>1534.9962</td>\n",
       "      <td>Wednesday:8</td>\n",
       "    </tr>\n",
       "    <tr>\n",
       "      <th>1</th>\n",
       "      <td>Grand Central-42 St (S,4,5,6,7)</td>\n",
       "      <td>Fulton St (A,C,J,Z,2,3,4,5)</td>\n",
       "      <td>Thursday</td>\n",
       "      <td>8</td>\n",
       "      <td>M</td>\n",
       "      <td>M</td>\n",
       "      <td>1456.8167</td>\n",
       "      <td>Thursday:8</td>\n",
       "    </tr>\n",
       "    <tr>\n",
       "      <th>2</th>\n",
       "      <td>Grand Central-42 St (S,4,5,6,7)</td>\n",
       "      <td>Fulton St (A,C,J,Z,2,3,4,5)</td>\n",
       "      <td>Tuesday</td>\n",
       "      <td>8</td>\n",
       "      <td>M</td>\n",
       "      <td>M</td>\n",
       "      <td>1419.9016</td>\n",
       "      <td>Tuesday:8</td>\n",
       "    </tr>\n",
       "    <tr>\n",
       "      <th>3</th>\n",
       "      <td>Fulton St (A,C,J,Z,2,3,4,5)</td>\n",
       "      <td>Grand Central-42 St (S,4,5,6,7)</td>\n",
       "      <td>Wednesday</td>\n",
       "      <td>17</td>\n",
       "      <td>M</td>\n",
       "      <td>M</td>\n",
       "      <td>1192.9002</td>\n",
       "      <td>Wednesday:17</td>\n",
       "    </tr>\n",
       "    <tr>\n",
       "      <th>4</th>\n",
       "      <td>Fulton St (A,C,J,Z,2,3,4,5)</td>\n",
       "      <td>Grand Central-42 St (S,4,5,6,7)</td>\n",
       "      <td>Thursday</td>\n",
       "      <td>17</td>\n",
       "      <td>M</td>\n",
       "      <td>M</td>\n",
       "      <td>1097.7822</td>\n",
       "      <td>Thursday:17</td>\n",
       "    </tr>\n",
       "    <tr>\n",
       "      <th>...</th>\n",
       "      <td>...</td>\n",
       "      <td>...</td>\n",
       "      <td>...</td>\n",
       "      <td>...</td>\n",
       "      <td>...</td>\n",
       "      <td>...</td>\n",
       "      <td>...</td>\n",
       "      <td>...</td>\n",
       "    </tr>\n",
       "    <tr>\n",
       "      <th>9169120</th>\n",
       "      <td>Norwood-205 St (D)</td>\n",
       "      <td>Forest Hills-71 Av (E,F,M,R)</td>\n",
       "      <td>Saturday</td>\n",
       "      <td>13</td>\n",
       "      <td>Bx</td>\n",
       "      <td>Q</td>\n",
       "      <td>0.1250</td>\n",
       "      <td>Saturday:13</td>\n",
       "    </tr>\n",
       "    <tr>\n",
       "      <th>9169121</th>\n",
       "      <td>Fulton St (A,C,J,Z,2,3,4,5)</td>\n",
       "      <td>Myrtle Av (M,J,Z)</td>\n",
       "      <td>Sunday</td>\n",
       "      <td>5</td>\n",
       "      <td>M</td>\n",
       "      <td>Bk</td>\n",
       "      <td>0.1250</td>\n",
       "      <td>Sunday:5</td>\n",
       "    </tr>\n",
       "    <tr>\n",
       "      <th>9169122</th>\n",
       "      <td>167 St (B,D)</td>\n",
       "      <td>49 St (N,R,W)</td>\n",
       "      <td>Monday</td>\n",
       "      <td>0</td>\n",
       "      <td>Bx</td>\n",
       "      <td>M</td>\n",
       "      <td>0.1000</td>\n",
       "      <td>Monday:0</td>\n",
       "    </tr>\n",
       "    <tr>\n",
       "      <th>9169123</th>\n",
       "      <td>72 St (C,B)</td>\n",
       "      <td>Times Sq-42 St (N,Q,R,W,S,1,2,3,7)/42 St (A,C,E)</td>\n",
       "      <td>Monday</td>\n",
       "      <td>5</td>\n",
       "      <td>M</td>\n",
       "      <td>M</td>\n",
       "      <td>0.1000</td>\n",
       "      <td>Monday:5</td>\n",
       "    </tr>\n",
       "    <tr>\n",
       "      <th>9169124</th>\n",
       "      <td>167 St (B,D)</td>\n",
       "      <td>176 St (4)</td>\n",
       "      <td>Monday</td>\n",
       "      <td>0</td>\n",
       "      <td>Bx</td>\n",
       "      <td>Bx</td>\n",
       "      <td>0.1000</td>\n",
       "      <td>Monday:0</td>\n",
       "    </tr>\n",
       "  </tbody>\n",
       "</table>\n",
       "<p>9169125 rows × 8 columns</p>\n",
       "</div>"
      ],
      "text/plain": [
       "             Origin Station Complex Name  \\\n",
       "0        Grand Central-42 St (S,4,5,6,7)   \n",
       "1        Grand Central-42 St (S,4,5,6,7)   \n",
       "2        Grand Central-42 St (S,4,5,6,7)   \n",
       "3            Fulton St (A,C,J,Z,2,3,4,5)   \n",
       "4            Fulton St (A,C,J,Z,2,3,4,5)   \n",
       "...                                  ...   \n",
       "9169120               Norwood-205 St (D)   \n",
       "9169121      Fulton St (A,C,J,Z,2,3,4,5)   \n",
       "9169122                     167 St (B,D)   \n",
       "9169123                      72 St (C,B)   \n",
       "9169124                     167 St (B,D)   \n",
       "\n",
       "                         Destination Station Complex Name Day of Week  \\\n",
       "0                             Fulton St (A,C,J,Z,2,3,4,5)   Wednesday   \n",
       "1                             Fulton St (A,C,J,Z,2,3,4,5)    Thursday   \n",
       "2                             Fulton St (A,C,J,Z,2,3,4,5)     Tuesday   \n",
       "3                         Grand Central-42 St (S,4,5,6,7)   Wednesday   \n",
       "4                         Grand Central-42 St (S,4,5,6,7)    Thursday   \n",
       "...                                                   ...         ...   \n",
       "9169120                      Forest Hills-71 Av (E,F,M,R)    Saturday   \n",
       "9169121                                 Myrtle Av (M,J,Z)      Sunday   \n",
       "9169122                                     49 St (N,R,W)      Monday   \n",
       "9169123  Times Sq-42 St (N,Q,R,W,S,1,2,3,7)/42 St (A,C,E)      Monday   \n",
       "9169124                                        176 St (4)      Monday   \n",
       "\n",
       "         Hour of Day Origin Borough Destination Borough  \\\n",
       "0                  8              M                   M   \n",
       "1                  8              M                   M   \n",
       "2                  8              M                   M   \n",
       "3                 17              M                   M   \n",
       "4                 17              M                   M   \n",
       "...              ...            ...                 ...   \n",
       "9169120           13             Bx                   Q   \n",
       "9169121            5              M                  Bk   \n",
       "9169122            0             Bx                   M   \n",
       "9169123            5              M                   M   \n",
       "9169124            0             Bx                  Bx   \n",
       "\n",
       "         Estimated Average Ridership      edge_key  \n",
       "0                          1534.9962   Wednesday:8  \n",
       "1                          1456.8167    Thursday:8  \n",
       "2                          1419.9016     Tuesday:8  \n",
       "3                          1192.9002  Wednesday:17  \n",
       "4                          1097.7822   Thursday:17  \n",
       "...                              ...           ...  \n",
       "9169120                       0.1250   Saturday:13  \n",
       "9169121                       0.1250      Sunday:5  \n",
       "9169122                       0.1000      Monday:0  \n",
       "9169123                       0.1000      Monday:5  \n",
       "9169124                       0.1000      Monday:0  \n",
       "\n",
       "[9169125 rows x 8 columns]"
      ]
     },
     "execution_count": 6,
     "metadata": {},
     "output_type": "execute_result"
    }
   ],
   "source": [
    "edges = (df2.groupby(['Origin Station Complex Name', 'Destination Station Complex Name', 'Day of Week', 'Hour of Day', 'Origin Borough', 'Destination Borough'])).mean().sort_values(by='Estimated Average Ridership', ascending=False).reset_index()\n",
    "edges['edge_key'] = edges['Day of Week'] + ':' + edges['Hour of Day'].astype(str)\n",
    "edges"
   ]
  },
  {
   "cell_type": "code",
   "execution_count": 7,
   "metadata": {},
   "outputs": [
    {
     "name": "stdout",
     "output_type": "stream",
     "text": [
      "        Origin Station Complex Name  \\\n",
      "141      Vernon Blvd-Jackson Av (7)   \n",
      "143      Vernon Blvd-Jackson Av (7)   \n",
      "155      Vernon Blvd-Jackson Av (7)   \n",
      "271            Flushing-Main St (7)   \n",
      "307            Flushing-Main St (7)   \n",
      "...                             ...   \n",
      "9169110  Vernon Blvd-Jackson Av (7)   \n",
      "9169116                 36 St (M,R)   \n",
      "9169117          46 St-Bliss St (7)   \n",
      "9169118          61 St-Woodside (7)   \n",
      "9169119          61 St-Woodside (7)   \n",
      "\n",
      "                         Destination Station Complex Name Day of Week  \\\n",
      "141                       Grand Central-42 St (S,4,5,6,7)   Wednesday   \n",
      "143                       Grand Central-42 St (S,4,5,6,7)    Thursday   \n",
      "155                       Grand Central-42 St (S,4,5,6,7)     Tuesday   \n",
      "271      Times Sq-42 St (N,Q,R,W,S,1,2,3,7)/42 St (A,C,E)    Thursday   \n",
      "307                       Grand Central-42 St (S,4,5,6,7)     Tuesday   \n",
      "...                                                   ...         ...   \n",
      "9169110                                     Wall St (2,3)   Wednesday   \n",
      "9169116                                       28 St (R,W)      Friday   \n",
      "9169117                             90 St-Elmhurst Av (7)    Saturday   \n",
      "9169118  Times Sq-42 St (N,Q,R,W,S,1,2,3,7)/42 St (A,C,E)    Saturday   \n",
      "9169119      Atlantic Av-Barclays Ctr (B,D,N,Q,R,2,3,4,5)    Saturday   \n",
      "\n",
      "         Hour of Day Origin Borough Destination Borough  \\\n",
      "141                8              Q                   M   \n",
      "143                8              Q                   M   \n",
      "155                8              Q                   M   \n",
      "271                8              Q                   M   \n",
      "307                8              Q                   M   \n",
      "...              ...            ...                 ...   \n",
      "9169110            4              Q                   M   \n",
      "9169116           22              Q                   M   \n",
      "9169117           14              Q                   Q   \n",
      "9169118           18              Q                   M   \n",
      "9169119           18              Q                  Bk   \n",
      "\n",
      "         Estimated Average Ridership     edge_key  \n",
      "141                         476.3082  Wednesday:8  \n",
      "143                         474.2193   Thursday:8  \n",
      "155                         461.5204    Tuesday:8  \n",
      "271                         373.8862   Thursday:8  \n",
      "307                         364.4138    Tuesday:8  \n",
      "...                              ...          ...  \n",
      "9169110                       0.1600  Wednesday:4  \n",
      "9169116                       0.1250    Friday:22  \n",
      "9169117                       0.1250  Saturday:14  \n",
      "9169118                       0.1250  Saturday:18  \n",
      "9169119                       0.1250  Saturday:18  \n",
      "\n",
      "[1397851 rows x 8 columns]\n"
     ]
    }
   ],
   "source": [
    "print(edges[edges['Origin Borough'] == 'Q'])"
   ]
  },
  {
   "cell_type": "code",
   "execution_count": 8,
   "metadata": {},
   "outputs": [],
   "source": [
    "G = nx.from_pandas_edgelist(edges, source=\"Origin Station Complex Name\", target=\"Destination Station Complex Name\", edge_attr=True, create_using=nx.MultiDiGraph, edge_key='edge_key')"
   ]
  },
  {
   "cell_type": "code",
   "execution_count": 9,
   "metadata": {},
   "outputs": [],
   "source": [
    "named_station_info = pd.merge(left=df, right=station_info, left_on='Origin Station Complex ID', right_on='Complex ID', how='right')\n",
    "named_station_info = named_station_info[['Borough', 'Complex ID', 'Origin Station Complex Name']]\n",
    "named_station_info = named_station_info.groupby(['Origin Station Complex Name', 'Borough', 'Complex ID'], as_index=False).count().sort_values(by='Complex ID')"
   ]
  },
  {
   "cell_type": "code",
   "execution_count": 10,
   "metadata": {},
   "outputs": [
    {
     "data": {
      "text/plain": [
       "Index(['Origin Station Complex Name', 'Borough', 'Complex ID'], dtype='object')"
      ]
     },
     "execution_count": 10,
     "metadata": {},
     "output_type": "execute_result"
    }
   ],
   "source": [
    "named_station_info.columns"
   ]
  },
  {
   "cell_type": "code",
   "execution_count": 11,
   "metadata": {},
   "outputs": [],
   "source": [
    "\n",
    "boroughs = {}\n",
    "ids = list(named_station_info[\"Origin Station Complex Name\"])\n",
    "b = list(named_station_info[\"Borough\"])\n",
    "for i in range(len(named_station_info)):\n",
    "    boroughs[ids[i]] = b[i]\n",
    "nx.set_node_attributes(G, boroughs, name=\"Borough\")"
   ]
  },
  {
   "cell_type": "markdown",
   "metadata": {},
   "source": [
    "## 1"
   ]
  },
  {
   "cell_type": "markdown",
   "metadata": {},
   "source": [
    "### 1A"
   ]
  },
  {
   "cell_type": "code",
   "execution_count": 12,
   "metadata": {},
   "outputs": [
    {
     "name": "stdout",
     "output_type": "stream",
     "text": [
      "{'M': [[492022.8909999953, 'Times Sq-42 St (N,Q,R,W,S,1,2,3,7)/42 St (A,C,E)'], [375744.0561000017, 'Grand Central-42 St (S,4,5,6,7)'], [223684.4673000008, '34 St-Herald Sq (B,D,F,M,N,Q,R,W)'], [219993.42779999992, '34 St-Penn Station (A,C,E)'], [212053.69609999796, '34 St-Penn Station (1,2,3)']], 'Q': [[115028.43759999999, 'Flushing-Main St (7)'], [106116.53660000018, '74-Broadway (7)/Jackson Hts-Roosevelt Av (E,F,M,R)'], [49340.88569999989, '103 St-Corona Plaza (7)'], [47856.67200000007, 'Junction Blvd (7)'], [42665.57040000028, 'Sutphin Blvd-Archer Av-JFK Airport (E,J,Z)']], 'Bk': [[101892.60110000017, 'Atlantic Av-Barclays Ctr (B,D,N,Q,R,2,3,4,5)'], [55409.06490000012, 'Jay St-MetroTech (A,C,F,R)'], [44169.229199999936, 'Court St (R)/Borough Hall (2,3,4,5)'], [39286.06430000026, 'Kings Hwy (B,Q)'], [38693.42919999942, 'Crown Hts-Utica Av (3,4)']], 'Bx': [[20482.494200000005, '161 St-Yankee Stadium (B,D,4)'], [18945.42069999996, '3 Av-149 St (2,5)'], [13748.588000000176, 'Hunts Point Av (6)'], [13551.495300000046, 'Parkchester (6)'], [12690.521000000015, 'Fordham Rd (4)']], 'SI': []}\n"
     ]
    }
   ],
   "source": [
    "## OUT DEGREE FOR ORIGIN\n",
    "\n",
    "boroughs = ['M', 'Q', 'Bk', 'Bx', 'SI']\n",
    "borough_ridership = {}\n",
    "for b in boroughs:\n",
    "    filtered = nx.subgraph_view(G, filter_node=lambda x: G.nodes[x][\"Borough\"] == b)\n",
    "    ridership = []\n",
    "    for n in filtered.nodes:\n",
    "        ridership.append([filtered.out_degree(n, weight='Estimated Average Ridership'), n])\n",
    "    ridership = sorted(ridership, reverse=True)\n",
    "    borough_ridership[b] = ridership[:5]\n",
    "print(borough_ridership)\n"
   ]
  },
  {
   "cell_type": "markdown",
   "metadata": {},
   "source": [
    "### 1B"
   ]
  },
  {
   "cell_type": "code",
   "execution_count": 13,
   "metadata": {},
   "outputs": [
    {
     "data": {
      "text/plain": [
       "[[366682.6977999944, 'Times Sq-42 St (N,Q,R,W,S,1,2,3,7)/42 St (A,C,E)'],\n",
       " [299994.94640000205, 'Grand Central-42 St (S,4,5,6,7)'],\n",
       " [198093.27320000465, '34 St-Herald Sq (B,D,F,M,N,Q,R,W)'],\n",
       " [178115.1026, '14 St-Union Sq (L,N,Q,R,W,4,5,6)'],\n",
       " [158768.4293999991, 'Fulton St (A,C,J,Z,2,3,4,5)']]"
      ]
     },
     "execution_count": 13,
     "metadata": {},
     "output_type": "execute_result"
    }
   ],
   "source": [
    "sub_edges = []\n",
    "for i, j, k in G.edges:\n",
    "    if k.split(':')[0] in ['Monday', 'Tuesday', 'Wednesday']:\n",
    "        sub_edges.append((i, j ,k))\n",
    "filtered = G.edge_subgraph(sub_edges)\n",
    "ridership = []\n",
    "for n in filtered.nodes:\n",
    "    ridership.append([filtered.out_degree(n, weight='Estimated Average Ridership'), n])\n",
    "ridership = sorted(ridership, reverse=True)\n",
    "top_5 = ridership[:5]\n",
    "top_5"
   ]
  },
  {
   "cell_type": "markdown",
   "metadata": {},
   "source": [
    "### 1C"
   ]
  },
  {
   "cell_type": "code",
   "execution_count": 14,
   "metadata": {},
   "outputs": [
    {
     "data": {
      "text/plain": [
       "[[151484.71489999883, 'Times Sq-42 St (N,Q,R,W,S,1,2,3,7)/42 St (A,C,E)'],\n",
       " [81496.38929999997, '34 St-Herald Sq (B,D,F,M,N,Q,R,W)'],\n",
       " [78418.81549999984, 'Grand Central-42 St (S,4,5,6,7)'],\n",
       " [77392.21220000015, '14 St-Union Sq (L,N,Q,R,W,4,5,6)'],\n",
       " [69408.95950000007, '34 St-Penn Station (A,C,E)']]"
      ]
     },
     "execution_count": 14,
     "metadata": {},
     "output_type": "execute_result"
    }
   ],
   "source": [
    "sub_edges = []\n",
    "for i, j, k in G.edges:\n",
    "    if k.split(':')[0] in ['Saturday', 'Sunday']:\n",
    "        sub_edges.append((i, j ,k))\n",
    "filtered = G.edge_subgraph(sub_edges)\n",
    "ridership = []\n",
    "for n in filtered.nodes:\n",
    "    ridership.append([filtered.out_degree(n, weight='Estimated Average Ridership'), n])\n",
    "ridership = sorted(ridership, reverse=True)\n",
    "top_5 = ridership[:5]\n",
    "top_5"
   ]
  },
  {
   "cell_type": "markdown",
   "metadata": {},
   "source": [
    "### 1D"
   ]
  },
  {
   "cell_type": "code",
   "execution_count": 15,
   "metadata": {},
   "outputs": [
    {
     "data": {
      "text/plain": [
       "[[11943.337700000026, 'Times Sq-42 St (N,Q,R,W,S,1,2,3,7)/42 St (A,C,E)'],\n",
       " [6099.978999999999, '74-Broadway (7)/Jackson Hts-Roosevelt Av (E,F,M,R)'],\n",
       " [6082.900499999989, '34 St-Herald Sq (B,D,F,M,N,Q,R,W)'],\n",
       " [5201.489999999985, 'W 4 St-Wash Sq (A,C,E,B,D,F,M)'],\n",
       " [4593.806199999965, '14 St-Union Sq (L,N,Q,R,W,4,5,6)']]"
      ]
     },
     "execution_count": 15,
     "metadata": {},
     "output_type": "execute_result"
    }
   ],
   "source": [
    "sub_edges = []\n",
    "for i, j, k in G.edges:\n",
    "    if int(k.split(':')[1]) in list(range(1,5)):\n",
    "        sub_edges.append((i, j ,k))\n",
    "filtered = G.edge_subgraph(sub_edges)\n",
    "ridership = []\n",
    "for n in filtered.nodes:\n",
    "    ridership.append([filtered.out_degree(n, weight='Estimated Average Ridership'), n])\n",
    "ridership = sorted(ridership, reverse=True)\n",
    "top_5 = ridership[:5]\n",
    "top_5"
   ]
  },
  {
   "cell_type": "markdown",
   "metadata": {},
   "source": [
    "### 1E"
   ]
  },
  {
   "cell_type": "code",
   "execution_count": 16,
   "metadata": {},
   "outputs": [
    {
     "data": {
      "text/plain": [
       "[[131921.67709999942, 'Times Sq-42 St (N,Q,R,W,S,1,2,3,7)/42 St (A,C,E)'],\n",
       " [89152.01950000029, 'Grand Central-42 St (S,4,5,6,7)'],\n",
       " [69550.92989999951, '74-Broadway (7)/Jackson Hts-Roosevelt Av (E,F,M,R)'],\n",
       " [66670.79319999907, '34 St-Penn Station (1,2,3)'],\n",
       " [66484.19239999997, 'Flushing-Main St (7)']]"
      ]
     },
     "execution_count": 16,
     "metadata": {},
     "output_type": "execute_result"
    }
   ],
   "source": [
    "sub_edges = []\n",
    "for i, j, k in G.edges:\n",
    "    if int(k.split(':')[1]) in list(range(6,9)):\n",
    "        sub_edges.append((i, j ,k))\n",
    "filtered = G.edge_subgraph(sub_edges)\n",
    "ridership = []\n",
    "for n in filtered.nodes:\n",
    "    ridership.append([filtered.out_degree(n, weight='Estimated Average Ridership'), n])\n",
    "ridership = sorted(ridership, reverse=True)\n",
    "top_5 = ridership[:5]\n",
    "top_5"
   ]
  },
  {
   "cell_type": "markdown",
   "metadata": {},
   "source": [
    "## 2"
   ]
  },
  {
   "cell_type": "markdown",
   "metadata": {},
   "source": [
    "### 2A"
   ]
  },
  {
   "cell_type": "code",
   "execution_count": 17,
   "metadata": {},
   "outputs": [
    {
     "name": "stdout",
     "output_type": "stream",
     "text": [
      "{'M': [[474085.9545000002, 'Times Sq-42 St (N,Q,R,W,S,1,2,3,7)/42 St (A,C,E)'], [344473.24150000006, 'Grand Central-42 St (S,4,5,6,7)'], [224767.60169999904, '34 St-Herald Sq (B,D,F,M,N,Q,R,W)'], [214544.44960000043, '14 St-Union Sq (L,N,Q,R,W,4,5,6)'], [202620.20410000064, '59 St-Columbus Circle (A,B,C,D,1)']], 'Q': [[108329.4059999994, '74-Broadway (7)/Jackson Hts-Roosevelt Av (E,F,M,R)'], [107684.79850000014, 'Flushing-Main St (7)'], [48124.096399999864, '103 St-Corona Plaza (7)'], [45009.05699999995, 'Junction Blvd (7)'], [42103.07600000032, 'Forest Hills-71 Av (E,F,M,R)']], 'Bk': [[103014.17410000041, 'Atlantic Av-Barclays Ctr (B,D,N,Q,R,2,3,4,5)'], [61373.84729999979, 'Jay St-MetroTech (A,C,F,R)'], [49045.45229999962, 'Court St (R)/Borough Hall (2,3,4,5)'], [41980.95460000002, 'Bedford Av (L)'], [38973.033599999726, 'Kings Hwy (B,Q)']], 'Bx': [[20726.217900000007, '161 St-Yankee Stadium (B,D,4)'], [18685.011899999943, '3 Av-149 St (2,5)'], [13192.732900000003, 'Parkchester (6)'], [12729.46870000011, 'Hunts Point Av (6)'], [12475.006900000033, '149 St-Grand Concourse (2,4,5)']], 'SI': []}\n"
     ]
    }
   ],
   "source": [
    "# IN DEGREE FOR DESTINATION\n",
    "\n",
    "boroughs = ['M', 'Q', 'Bk', 'Bx', 'SI']\n",
    "borough_ridership = {}\n",
    "for b in boroughs:\n",
    "    filtered = nx.subgraph_view(G, filter_node=lambda x: G.nodes[x][\"Borough\"] == b)\n",
    "    ridership = []\n",
    "    for n in filtered.nodes:\n",
    "        ridership.append([filtered.in_degree(n, weight='Estimated Average Ridership'), n])\n",
    "    ridership = sorted(ridership, reverse=True)\n",
    "    borough_ridership[b] = ridership[:5]\n",
    "print(borough_ridership)"
   ]
  },
  {
   "cell_type": "markdown",
   "metadata": {},
   "source": [
    "### 2B"
   ]
  },
  {
   "cell_type": "code",
   "execution_count": 18,
   "metadata": {},
   "outputs": [
    {
     "data": {
      "text/plain": [
       "[[254027.95149999918, 'Times Sq-42 St (N,Q,R,W,S,1,2,3,7)/42 St (A,C,E)'],\n",
       " [193929.87070000198, 'Grand Central-42 St (S,4,5,6,7)'],\n",
       " [146122.45519999982, '34 St-Herald Sq (B,D,F,M,N,Q,R,W)'],\n",
       " [137625.2514999999, '14 St-Union Sq (L,N,Q,R,W,4,5,6)'],\n",
       " [112550.08569999953, 'Fulton St (A,C,J,Z,2,3,4,5)']]"
      ]
     },
     "execution_count": 18,
     "metadata": {},
     "output_type": "execute_result"
    }
   ],
   "source": [
    "sub_edges = []\n",
    "for i, j, k in G.edges:\n",
    "    if k.split(':')[0] in ['Thursday', 'Friday']:\n",
    "        sub_edges.append((i, j ,k))\n",
    "filtered = G.edge_subgraph(sub_edges)\n",
    "ridership = []\n",
    "for n in filtered.nodes:\n",
    "    ridership.append([filtered.in_degree(n, weight='Estimated Average Ridership'), n])\n",
    "ridership = sorted(ridership, reverse=True)\n",
    "top_5 = ridership[:5]\n",
    "top_5"
   ]
  },
  {
   "cell_type": "markdown",
   "metadata": {},
   "source": [
    "### 2C"
   ]
  },
  {
   "cell_type": "code",
   "execution_count": 19,
   "metadata": {},
   "outputs": [
    {
     "data": {
      "text/plain": [
       "[[82215.3906, 'Times Sq-42 St (N,Q,R,W,S,1,2,3,7)/42 St (A,C,E)'],\n",
       " [48560.38809999999, '34 St-Herald Sq (B,D,F,M,N,Q,R,W)'],\n",
       " [48271.31670000009, '14 St-Union Sq (L,N,Q,R,W,4,5,6)'],\n",
       " [40886.46990000038, 'Grand Central-42 St (S,4,5,6,7)'],\n",
       " [35605.25350000015, '34 St-Penn Station (A,C,E)']]"
      ]
     },
     "execution_count": 19,
     "metadata": {},
     "output_type": "execute_result"
    }
   ],
   "source": [
    "sub_edges = []\n",
    "for i, j, k in G.edges:\n",
    "    if k.split(':')[0] in ['Saturday']:\n",
    "        sub_edges.append((i, j ,k))\n",
    "filtered = G.edge_subgraph(sub_edges)\n",
    "ridership = []\n",
    "for n in filtered.nodes:\n",
    "    ridership.append([filtered.in_degree(n, weight='Estimated Average Ridership'), n])\n",
    "ridership = sorted(ridership, reverse=True)\n",
    "top_5 = ridership[:5]\n",
    "top_5"
   ]
  },
  {
   "cell_type": "markdown",
   "metadata": {},
   "source": [
    "### 2D"
   ]
  },
  {
   "cell_type": "code",
   "execution_count": 20,
   "metadata": {},
   "outputs": [
    {
     "data": {
      "text/plain": [
       "[[13370.50710000007, 'Times Sq-42 St (N,Q,R,W,S,1,2,3,7)/42 St (A,C,E)'],\n",
       " [9410.559700000003, '74-Broadway (7)/Jackson Hts-Roosevelt Av (E,F,M,R)'],\n",
       " [8158.897899999926, 'Grand Central-42 St (S,4,5,6,7)'],\n",
       " [6672.982799999966, '34 St-Herald Sq (B,D,F,M,N,Q,R,W)'],\n",
       " [5686.025199999945, '34 St-Penn Station (A,C,E)']]"
      ]
     },
     "execution_count": 20,
     "metadata": {},
     "output_type": "execute_result"
    }
   ],
   "source": [
    "sub_edges = []\n",
    "for i, j, k in G.edges:\n",
    "    if int(k.split(':')[1]) in list(range(0,5)):\n",
    "        sub_edges.append((i, j ,k))\n",
    "filtered = G.edge_subgraph(sub_edges)\n",
    "ridership = []\n",
    "for n in filtered.nodes:\n",
    "    ridership.append([filtered.in_degree(n, weight='Estimated Average Ridership'), n])\n",
    "ridership = sorted(ridership, reverse=True)\n",
    "top_5 = ridership[:5]\n",
    "top_5"
   ]
  },
  {
   "cell_type": "markdown",
   "metadata": {},
   "source": [
    "### 2E"
   ]
  },
  {
   "cell_type": "code",
   "execution_count": 21,
   "metadata": {},
   "outputs": [
    {
     "data": {
      "text/plain": [
       "[[113725.83630000001, 'Times Sq-42 St (N,Q,R,W,S,1,2,3,7)/42 St (A,C,E)'],\n",
       " [57615.0811999999, 'Grand Central-42 St (S,4,5,6,7)'],\n",
       " [55440.312299999976, '34 St-Herald Sq (B,D,F,M,N,Q,R,W)'],\n",
       " [52727.58670000014, '14 St-Union Sq (L,N,Q,R,W,4,5,6)'],\n",
       " [51699.940900000096, '74-Broadway (7)/Jackson Hts-Roosevelt Av (E,F,M,R)']]"
      ]
     },
     "execution_count": 21,
     "metadata": {},
     "output_type": "execute_result"
    }
   ],
   "source": [
    "sub_edges = []\n",
    "for i, j, k in G.edges:\n",
    "    if int(k.split(':')[1]) in list(range(18,21)):\n",
    "        sub_edges.append((i, j ,k))\n",
    "filtered = G.edge_subgraph(sub_edges)\n",
    "ridership = []\n",
    "for n in filtered.nodes:\n",
    "    ridership.append([filtered.in_degree(n, weight='Estimated Average Ridership'), n])\n",
    "ridership = sorted(ridership, reverse=True)\n",
    "top_5 = ridership[:5]\n",
    "top_5"
   ]
  },
  {
   "cell_type": "markdown",
   "metadata": {},
   "source": [
    "## 3"
   ]
  },
  {
   "cell_type": "markdown",
   "metadata": {},
   "source": [
    "### 3A"
   ]
  },
  {
   "cell_type": "code",
   "execution_count": 58,
   "metadata": {},
   "outputs": [
    {
     "data": {
      "text/plain": [
       "[('Grand Central-42 St (S,4,5,6,7)',\n",
       "  '14 St-Union Sq (L,N,Q,R,W,4,5,6)',\n",
       "  {'weight': 134.784}),\n",
       " ('Fulton St (A,C,J,Z,2,3,4,5)',\n",
       "  'Grand Central-42 St (S,4,5,6,7)',\n",
       "  {'weight': 125.6758}),\n",
       " ('Flushing-Main St (7)', 'Junction Blvd (7)', {'weight': 123.3308}),\n",
       " ('Flushing-Main St (7)',\n",
       "  '74-Broadway (7)/Jackson Hts-Roosevelt Av (E,F,M,R)',\n",
       "  {'weight': 122.4416}),\n",
       " ('Junction Blvd (7)', 'Flushing-Main St (7)', {'weight': 120.5736}),\n",
       " ('Grand Central-42 St (S,4,5,6,7)',\n",
       "  'Times Sq-42 St (N,Q,R,W,S,1,2,3,7)/42 St (A,C,E)',\n",
       "  {'weight': 119.5378}),\n",
       " ('Grand Central-42 St (S,4,5,6,7)',\n",
       "  'Fulton St (A,C,J,Z,2,3,4,5)',\n",
       "  {'weight': 115.57980000000002}),\n",
       " ('Grand Central-42 St (S,4,5,6,7)', '86 St (4,5,6)', {'weight': 114.6836}),\n",
       " ('14 St-Union Sq (L,N,Q,R,W,4,5,6)',\n",
       "  'Times Sq-42 St (N,Q,R,W,S,1,2,3,7)/42 St (A,C,E)',\n",
       "  {'weight': 113.7334}),\n",
       " ('14 St-Union Sq (L,N,Q,R,W,4,5,6)',\n",
       "  'Grand Central-42 St (S,4,5,6,7)',\n",
       "  {'weight': 112.1886})]"
      ]
     },
     "execution_count": 58,
     "metadata": {},
     "output_type": "execute_result"
    }
   ],
   "source": [
    "sub_edges = []\n",
    "g2 = nx.DiGraph()\n",
    "for i, j, k in G.edges:\n",
    "    # check day / time\n",
    "    if int(k.split(':')[1]) == 13 and k.split(':')[0] == \"Monday\":\n",
    "        if not g2.has_edge(i, j):\n",
    "            g2.add_edge(i, j, weight=G[i][j][k]['Estimated Average Ridership'])\n",
    "        else:\n",
    "            g2[i][j]['weight'] += G[i][j][k]['Estimated Average Ridership']\n",
    "\n",
    "ridership = sorted(g2.edges(data=True),key= lambda x: x[2]['weight'],reverse=True)\n",
    "top_10 = ridership[:10]\n",
    "top_10"
   ]
  },
  {
   "cell_type": "markdown",
   "metadata": {},
   "source": [
    "### 3B"
   ]
  },
  {
   "cell_type": "code",
   "execution_count": 55,
   "metadata": {},
   "outputs": [
    {
     "data": {
      "text/plain": [
       "[('Flushing-Main St (7)',\n",
       "  '74-Broadway (7)/Jackson Hts-Roosevelt Av (E,F,M,R)',\n",
       "  {'weight': 526.1126}),\n",
       " ('Flushing-Main St (7)', '103 St-Corona Plaza (7)', {'weight': 513.9525}),\n",
       " ('Flushing-Main St (7)', 'Junction Blvd (7)', {'weight': 476.8428}),\n",
       " ('Junction Blvd (7)', 'Flushing-Main St (7)', {'weight': 385.0942}),\n",
       " ('Flushing-Main St (7)',\n",
       "  '90 St-Elmhurst Av (7)',\n",
       "  {'weight': 311.59180000000003}),\n",
       " ('74-Broadway (7)/Jackson Hts-Roosevelt Av (E,F,M,R)',\n",
       "  'Flushing-Main St (7)',\n",
       "  {'weight': 281.7269}),\n",
       " ('103 St-Corona Plaza (7)', 'Flushing-Main St (7)', {'weight': 242.8945}),\n",
       " ('82 St-Jackson Hts (7)',\n",
       "  'Flushing-Main St (7)',\n",
       "  {'weight': 207.61800000000002}),\n",
       " ('90 St-Elmhurst Av (7)',\n",
       "  'Flushing-Main St (7)',\n",
       "  {'weight': 181.40320000000003}),\n",
       " ('74-Broadway (7)/Jackson Hts-Roosevelt Av (E,F,M,R)',\n",
       "  'Jamaica-179 St (F)',\n",
       "  {'weight': 178.9214})]"
      ]
     },
     "execution_count": 55,
     "metadata": {},
     "output_type": "execute_result"
    }
   ],
   "source": [
    "sub_edges = []\n",
    "g2 = nx.DiGraph()\n",
    "for i, j, k in G.edges:\n",
    "    source_borough = G.nodes[i]['Borough']\n",
    "    destination_borough = G.nodes[j]['Borough']\n",
    "    # check boroughs\n",
    "    if source_borough == 'Q' and destination_borough == 'Q':\n",
    "        # check day / time\n",
    "        if int(k.split(':')[1]) in list(range(18,21)) and k.split(':')[0] == \"Friday\":\n",
    "            if not g2.has_edge(i, j):\n",
    "                g2.add_edge(i, j, weight=G[i][j][k]['Estimated Average Ridership'])\n",
    "            else:\n",
    "                g2[i][j]['weight'] += G[i][j][k]['Estimated Average Ridership']\n",
    "\n",
    "ridership = sorted(g2.edges(data=True),key= lambda x: x[2]['weight'],reverse=True)\n",
    "top_10 = ridership[:10]\n",
    "top_10"
   ]
  },
  {
   "cell_type": "markdown",
   "metadata": {},
   "source": [
    "### 3C"
   ]
  },
  {
   "cell_type": "code",
   "execution_count": 53,
   "metadata": {},
   "outputs": [
    {
     "data": {
      "text/plain": [
       "[('Bedford Av (L)',\n",
       "  'Myrtle-Wyckoff Avs (L,M)',\n",
       "  {'weight': 102.15010000000002}),\n",
       " ('Bedford Av (L)', 'DeKalb Av (L)', {'weight': 80.53}),\n",
       " ('Lorimer St (L)/Metropolitan Av (G)',\n",
       "  'Myrtle-Wyckoff Avs (L,M)',\n",
       "  {'weight': 73.5999}),\n",
       " ('Jefferson St (L)',\n",
       "  'Myrtle-Wyckoff Avs (L,M)',\n",
       "  {'weight': 69.86269999999999}),\n",
       " ('Lorimer St (L)/Metropolitan Av (G)',\n",
       "  'DeKalb Av (L)',\n",
       "  {'weight': 59.859300000000005}),\n",
       " ('Jefferson St (L)', 'Bedford Av (L)', {'weight': 58.54900000000002}),\n",
       " ('Bedford Av (L)', 'Jefferson St (L)', {'weight': 56.6384}),\n",
       " ('Atlantic Av-Barclays Ctr (B,D,N,Q,R,2,3,4,5)',\n",
       "  '36 St (D,N,R)',\n",
       "  {'weight': 54.46099999999999}),\n",
       " ('Flatbush Av-Brooklyn College (2,5)',\n",
       "  'Atlantic Av-Barclays Ctr (B,D,N,Q,R,2,3,4,5)',\n",
       "  {'weight': 50.424}),\n",
       " ('Bedford Av (L)', 'Morgan Av (L)', {'weight': 50.134899999999995})]"
      ]
     },
     "execution_count": 53,
     "metadata": {},
     "output_type": "execute_result"
    }
   ],
   "source": [
    "sub_edges = []\n",
    "g2 = nx.DiGraph()\n",
    "for i, j, k in G.edges:\n",
    "    source_borough = G.nodes[i]['Borough']\n",
    "    destination_borough = G.nodes[j]['Borough']\n",
    "    # check boroughs\n",
    "    if source_borough == 'Bk' and destination_borough == 'Bk':\n",
    "        # check day / time\n",
    "        if int(k.split(':')[1]) in list(range(1,5)):\n",
    "            if not g2.has_edge(i, j):\n",
    "                g2.add_edge(i, j, weight=G[i][j][k]['Estimated Average Ridership'])\n",
    "            else:\n",
    "                g2[i][j]['weight'] += G[i][j][k]['Estimated Average Ridership']\n",
    "\n",
    "ridership = sorted(g2.edges(data=True),key= lambda x: x[2]['weight'],reverse=True)\n",
    "top_10 = ridership[:10]\n",
    "top_10"
   ]
  },
  {
   "cell_type": "markdown",
   "metadata": {},
   "source": [
    "### 3D"
   ]
  },
  {
   "cell_type": "code",
   "execution_count": 50,
   "metadata": {},
   "outputs": [
    {
     "data": {
      "text/plain": [
       "[('Atlantic Av-Barclays Ctr (B,D,N,Q,R,2,3,4,5)',\n",
       "  'Bowling Green (4,5)',\n",
       "  {'weight': 326.71340000000004}),\n",
       " ('Crown Hts-Utica Av (3,4)',\n",
       "  'Grand Central-42 St (S,4,5,6,7)',\n",
       "  {'weight': 240.9032}),\n",
       " ('Flatbush Av-Brooklyn College (2,5)',\n",
       "  'Grand Central-42 St (S,4,5,6,7)',\n",
       "  {'weight': 208.6848}),\n",
       " ('Kings Hwy (B,Q)',\n",
       "  '34 St-Herald Sq (B,D,F,M,N,Q,R,W)',\n",
       "  {'weight': 200.7939}),\n",
       " ('Crown Hts-Utica Av (3,4)',\n",
       "  'Fulton St (A,C,J,Z,2,3,4,5)',\n",
       "  {'weight': 193.90349999999998}),\n",
       " ('Flatbush Av-Brooklyn College (2,5)',\n",
       "  'Fulton St (A,C,J,Z,2,3,4,5)',\n",
       "  {'weight': 186.75279999999998}),\n",
       " ('Crown Hts-Utica Av (3,4)', '86 St (4,5,6)', {'weight': 149.64079999999998}),\n",
       " ('Kings Hwy (B,Q)',\n",
       "  '47-50 Sts-Rockefeller Ctr (B,D,F,M)',\n",
       "  {'weight': 144.9144}),\n",
       " ('Kings Hwy (B,Q)', '72 St (Q)', {'weight': 142.09779999999998}),\n",
       " ('Crown Hts-Utica Av (3,4)',\n",
       "  '14 St-Union Sq (L,N,Q,R,W,4,5,6)',\n",
       "  {'weight': 142.0415})]"
      ]
     },
     "execution_count": 50,
     "metadata": {},
     "output_type": "execute_result"
    }
   ],
   "source": [
    "sub_edges = []\n",
    "g2 = nx.DiGraph()\n",
    "for i, j, k in G.edges:\n",
    "    source_borough = G.nodes[i]['Borough']\n",
    "    destination_borough = G.nodes[j]['Borough']\n",
    "    # check boroughs\n",
    "    if source_borough == 'Bk' and destination_borough == 'M':\n",
    "        # check day / time\n",
    "        if int(k.split(':')[1]) in list(range(6,7)) and k.split(':')[0] in ['Monday', 'Tuesday', 'Wednesday', 'Thursday']:\n",
    "            if not g2.has_edge(i, j):\n",
    "                g2.add_edge(i, j, weight=G[i][j][k]['Estimated Average Ridership'])\n",
    "            else:\n",
    "                g2[i][j]['weight'] += G[i][j][k]['Estimated Average Ridership']\n",
    "\n",
    "ridership = sorted(g2.edges(data=True),key= lambda x: x[2]['weight'],reverse=True)\n",
    "top_10 = ridership[:10]\n",
    "top_10"
   ]
  },
  {
   "cell_type": "markdown",
   "metadata": {},
   "source": [
    "### 3E"
   ]
  },
  {
   "cell_type": "code",
   "execution_count": 47,
   "metadata": {},
   "outputs": [
    {
     "data": {
      "text/plain": [
       "[('Parkchester (6)', 'Grand Central-42 St (S,4,5,6,7)', {'weight': 207.1318}),\n",
       " ('Parkchester (6)', '125 St (4,5,6)', {'weight': 186.91930000000002}),\n",
       " ('Parkchester (6)', '68 St-Hunter College (6)', {'weight': 174.5169}),\n",
       " ('Parkchester (6)', '86 St (4,5,6)', {'weight': 157.4212}),\n",
       " ('Parkchester (6)', 'Fulton St (A,C,J,Z,2,3,4,5)', {'weight': 145.2448}),\n",
       " ('Parkchester (6)',\n",
       "  'Lexington Av-53 St (E,M)/51 St (6)',\n",
       "  {'weight': 144.4392}),\n",
       " ('Woodlawn (4)', '86 St (4,5,6)', {'weight': 137.5386}),\n",
       " ('3 Av-149 St (2,5)',\n",
       "  'Grand Central-42 St (S,4,5,6,7)',\n",
       "  {'weight': 132.5911}),\n",
       " ('Parkchester (6)',\n",
       "  'Brooklyn Bridge-City Hall (4,5,6)/Chambers St (J,Z)',\n",
       "  {'weight': 126.886}),\n",
       " ('161 St-Yankee Stadium (B,D,4)',\n",
       "  '34 St-Herald Sq (B,D,F,M,N,Q,R,W)',\n",
       "  {'weight': 119.8167})]"
      ]
     },
     "execution_count": 47,
     "metadata": {},
     "output_type": "execute_result"
    }
   ],
   "source": [
    "sub_edges = []\n",
    "g2 = nx.DiGraph()\n",
    "for i, j, k in G.edges:\n",
    "    source_borough = G.nodes[i]['Borough']\n",
    "    destination_borough = G.nodes[j]['Borough']\n",
    "    # check boroughs\n",
    "    if source_borough == 'Bx' and destination_borough == 'M':\n",
    "        # check day / time\n",
    "        if int(k.split(':')[1]) in list(range(6,7)) and k.split(':')[0] in ['Monday', 'Tuesday', 'Wednesday', 'Thursday']:\n",
    "            if not g2.has_edge(i, j):\n",
    "                g2.add_edge(i, j, weight=G[i][j][k]['Estimated Average Ridership'])\n",
    "            else:\n",
    "                g2[i][j]['weight'] += G[i][j][k]['Estimated Average Ridership']\n",
    "\n",
    "ridership = sorted(g2.edges(data=True),key= lambda x: x[2]['weight'],reverse=True)\n",
    "top_10 = ridership[:10]\n",
    "top_10"
   ]
  },
  {
   "cell_type": "markdown",
   "metadata": {},
   "source": [
    "### 3F"
   ]
  },
  {
   "cell_type": "code",
   "execution_count": 52,
   "metadata": {},
   "outputs": [
    {
     "data": {
      "text/plain": [
       "[]"
      ]
     },
     "execution_count": 52,
     "metadata": {},
     "output_type": "execute_result"
    }
   ],
   "source": [
    "sub_edges = []\n",
    "g2 = nx.DiGraph()\n",
    "for i, j, k in G.edges:\n",
    "    source_borough = G.nodes[i]['Borough']\n",
    "    destination_borough = G.nodes[j]['Borough']\n",
    "    # check boroughs\n",
    "    if source_borough == 'SI' and destination_borough == 'M':\n",
    "        # check day / time\n",
    "        if int(k.split(':')[1]) in list(range(6,7)) and k.split(':')[0] in ['Monday', 'Tuesday', 'Wednesday', 'Thursday']:\n",
    "            if not g2.has_edge(i, j):\n",
    "                g2.add_edge(i, j, weight=G[i][j][k]['Estimated Average Ridership'])\n",
    "            else:\n",
    "                g2[i][j]['weight'] += G[i][j][k]['Estimated Average Ridership']\n",
    "\n",
    "ridership = sorted(g2.edges(data=True),key= lambda x: x[2]['weight'],reverse=True)\n",
    "top_10 = ridership[:10]\n",
    "top_10"
   ]
  },
  {
   "cell_type": "code",
   "execution_count": null,
   "metadata": {},
   "outputs": [],
   "source": []
  }
 ],
 "metadata": {
  "kernelspec": {
   "display_name": "Python 3 (ipykernel)",
   "language": "python",
   "name": "python3"
  },
  "language_info": {
   "codemirror_mode": {
    "name": "ipython",
    "version": 3
   },
   "file_extension": ".py",
   "mimetype": "text/x-python",
   "name": "python",
   "nbconvert_exporter": "python",
   "pygments_lexer": "ipython3",
   "version": "3.11.5"
  }
 },
 "nbformat": 4,
 "nbformat_minor": 4
}
