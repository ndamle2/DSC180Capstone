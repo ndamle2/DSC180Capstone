{
 "cells": [
  {
   "cell_type": "code",
   "execution_count": 1,
   "id": "e9665585-4e4e-47d3-b445-fc1fcffc83fe",
   "metadata": {},
   "outputs": [],
   "source": [
    "import os\n",
    "import numpy as np\n",
    "import pickle\n",
    "import torch\n",
    "import torch.nn\n",
    "import sys\n",
    "\n",
    "%load_ext autoreload\n",
    "%autoreload 2\n",
    "\n",
    "from scipy.sparse.linalg import eigsh\n",
    "from numpy.linalg import eigvals\n",
    "from torch_geometric.utils import (get_laplacian, to_scipy_sparse_matrix, to_undirected, to_dense_adj)\n",
    "from collections import defaultdict\n",
    "\n",
    "from sklearn.model_selection import train_test_split\n",
    "\n",
    "from tqdm import tqdm\n",
    "from collections import defaultdict\n",
    "from torch_geometric.data import Dataset\n",
    "from torch_geometric.data import Data\n",
    "\n",
    "from tqdm import tqdm\n",
    "from model import DEHNN\n",
    "\n",
    "from torch_geometric.data import Dataset\n",
    "from torch_geometric.data import Data, HeteroData\n",
    "from torch_geometric.loader import NeighborLoader\n",
    "from torch_geometric.nn.conv.gcn_conv import gcn_norm\n",
    "import torch.nn as nn\n",
    "import torch.optim as optim"
   ]
  },
  {
   "cell_type": "code",
   "execution_count": 2,
   "id": "6d5ca15d-1e93-42f3-97e8-ee944bbffaa5",
   "metadata": {},
   "outputs": [],
   "source": [
    "with open(os.path.join('superblue18/40.bipartite.pkl'), 'rb') as f:\n",
    "                    bipartite = pickle.load(f)"
   ]
  },
  {
   "cell_type": "code",
   "execution_count": 3,
   "id": "6656043a-ae77-4d44-b865-be329516b923",
   "metadata": {},
   "outputs": [],
   "source": [
    "with open(os.path.join('superblue18/40.node_features.pkl'), 'rb') as f:\n",
    "                    node_features = pickle.load(f)"
   ]
  },
  {
   "cell_type": "code",
   "execution_count": 4,
   "id": "a51c7cbb-2cb8-4556-a927-fdd0b01db33c",
   "metadata": {},
   "outputs": [],
   "source": [
    "with open(os.path.join('superblue18/40.net_features.pkl'), 'rb') as f:\n",
    "                    net_features = pickle.load(f)\n"
   ]
  },
  {
   "cell_type": "code",
   "execution_count": 5,
   "id": "00588fd0-45ec-4075-ab70-9f7b164492fb",
   "metadata": {},
   "outputs": [
    {
     "name": "stderr",
     "output_type": "stream",
     "text": [
      "/Users/neildamle/anaconda3/envs/capstone/lib/python3.11/site-packages/torch/storage.py:414: FutureWarning: You are using `torch.load` with `weights_only=False` (the current default value), which uses the default pickle module implicitly. It is possible to construct malicious pickle data which will execute arbitrary code during unpickling (See https://github.com/pytorch/pytorch/blob/main/SECURITY.md#untrusted-models for more details). In a future release, the default value for `weights_only` will be flipped to `True`. This limits the functions that could be executed during unpickling. Arbitrary objects will no longer be allowed to be loaded via this mode unless they are explicitly allowlisted by the user via `torch.serialization.add_safe_globals`. We recommend you start setting `weights_only=True` for any use case where you don't have full control of the loaded file. Please open an issue on GitHub for any issues related to this experimental feature.\n",
      "  return torch.load(io.BytesIO(b))\n"
     ]
    }
   ],
   "source": [
    "with open(os.path.join('superblue18/40.targets.pkl'), 'rb') as f:\n",
    "                    targets = pickle.load(f)"
   ]
  },
  {
   "cell_type": "code",
   "execution_count": 6,
   "id": "9e27d17b-3e25-46cd-aa94-60d435fa28a2",
   "metadata": {},
   "outputs": [],
   "source": [
    "with open(os.path.join('superblue18/40.net_hpwl.pkl'), 'rb') as f:\n",
    "                    net_hpwl = pickle.load(f)"
   ]
  },
  {
   "cell_type": "code",
   "execution_count": 7,
   "id": "7c515586-0370-4cc7-9846-9f38c8233543",
   "metadata": {},
   "outputs": [],
   "source": [
    "with open(os.path.join('superblue18/40.pl_part_dict.pkl'), 'rb') as f:\n",
    "                    part_dict = pickle.load(f)"
   ]
  },
  {
   "cell_type": "code",
   "execution_count": 8,
   "id": "8aa1cae9-0f4f-434a-af56-f466f3a970ed",
   "metadata": {},
   "outputs": [],
   "source": [
    "net2sink = np.empty(node_features[\"num_nets\"], dtype=object)\n",
    "net2source = np.empty(node_features[\"num_nets\"], dtype=object)\n",
    "\n",
    "# Initialize each entry as an empty list\n",
    "for i in range(node_features[\"num_nets\"]):\n",
    "    net2sink[i] = []\n",
    "    net2source[i] = 0\n",
    "\n",
    "# Iterate over each edge in the dataset\n",
    "for i in range(len(bipartite['instance_idx'])):\n",
    "    instance_idx = bipartite['instance_idx'][i]\n",
    "    net_idx = bipartite['net_idx'][i]\n",
    "    edge_dir = bipartite['edge_dir'][i]\n",
    "\n",
    "    if edge_dir == 0:\n",
    "        net2sink[net_idx].append(instance_idx)\n",
    "    else:\n",
    "        # If edge_dir is 1, add instance_idx to node2source\n",
    "        net2source[net_idx] = instance_idx\n"
   ]
  },
  {
   "cell_type": "code",
   "execution_count": 9,
   "id": "e148baa4-faad-4e6a-b63f-d0e0b3ca94be",
   "metadata": {},
   "outputs": [],
   "source": [
    "node_type_id = np.array(range(node_features[\"num_instances\"]))\n",
    "node_loc_x = np.array(node_features[\"instance_features\"][:,0])\n",
    "node_loc_y = np.array(node_features[\"instance_features\"][:,1])\n",
    "node_size_x = np.array(node_features[\"instance_features\"][:,3])\n",
    "node_size_y = np.array(node_features[\"instance_features\"][:,4])"
   ]
  },
  {
   "cell_type": "code",
   "execution_count": 10,
   "id": "2a932e42-7395-4288-af97-5a339f92c525",
   "metadata": {},
   "outputs": [],
   "source": [
    "edge_index = []\n",
    "    \n",
    "for net_idx in range(len(net2sink)):\n",
    "    sink_idx_lst = net2sink[net_idx]\n",
    "    source_idx = net2source[net_idx]\n",
    "\n",
    "    for sink_idx in sink_idx_lst:\n",
    "        edge_index.append([source_idx, sink_idx])\n",
    "        edge_index.append([sink_idx, source_idx])\n",
    "\n",
    "edge_index = torch.tensor(edge_index).T.long()\n",
    "\n",
    "num_instances = len(node_loc_x)\n",
    "\n",
    "L = to_scipy_sparse_matrix(\n",
    "    *get_laplacian(edge_index, normalization=\"sym\", num_nodes = num_instances)\n",
    ")\n",
    "\n",
    "k = 10\n",
    "evals, evects = eigsh(L, k = k, which='SM')\n",
    "eig_vec = evects"
   ]
  },
  {
   "cell_type": "code",
   "execution_count": 11,
   "id": "5337bec6-0d00-4b78-84fb-45ddc390e26a",
   "metadata": {},
   "outputs": [],
   "source": [
    "target_net_hpwl = net_hpwl[\"hpwl\"]\n",
    "target_node_congestion_level = targets[\"demand\"]"
   ]
  },
  {
   "cell_type": "code",
   "execution_count": 12,
   "id": "f80f95d3-3a25-4491-9196-3a393c6b2d7b",
   "metadata": {},
   "outputs": [],
   "source": [
    "def compute_degrees(edge_index, num_nodes):\n",
    "    # Create a degree tensor initialized to zero\n",
    "    degree = torch.zeros(num_nodes, dtype=torch.long)\n",
    "    \n",
    "    # Count the number of edges connected to each node\n",
    "    degree.scatter_add_(0, edge_index[0], torch.ones(edge_index.size(1), dtype=torch.long))\n",
    "    \n",
    "    return degree"
   ]
  },
  {
   "cell_type": "code",
   "execution_count": 13,
   "id": "622c1a6f-3fc7-4378-abbb-eb000f85c318",
   "metadata": {},
   "outputs": [],
   "source": [
    "num_instances = len(node_type_id)\n",
    "assert len(node_loc_x) == num_instances\n",
    "assert len(node_loc_y) == num_instances\n",
    "assert len(node_size_x) == num_instances\n",
    "assert len(node_size_y) == num_instances\n",
    "assert len(eig_vec) == num_instances\n",
    "assert len(target_node_congestion_level) == num_instances\n",
    "\n",
    "edge_index_source_sink = []\n",
    "#edge_index_sink_source = []\n",
    "edge_index_sink_to_net = []\n",
    "edge_index_source_to_net = []\n",
    "\n",
    "for net_idx in range(len(net2sink)):\n",
    "    sink_idx_lst = net2sink[net_idx]\n",
    "    source_idx = net2source[net_idx]\n",
    "\n",
    "    for sink_idx in sink_idx_lst:\n",
    "        edge_index_sink_to_net.append([sink_idx, net_idx + num_instances])\n",
    "        edge_index_source_sink.append([source_idx, sink_idx])\n",
    "\n",
    "    edge_index_source_to_net.append([source_idx, net_idx + num_instances])\n",
    "    \n",
    "edge_index_source_sink = torch.tensor(edge_index_source_sink).T.long()\n",
    "edge_index_source_to_net = torch.tensor(edge_index_source_to_net).T.long()\n",
    "edge_index_sink_to_net = torch.tensor(edge_index_sink_to_net).T.long()\n",
    "\n",
    "in_degrees = compute_degrees(edge_index_source_sink, num_instances)\n",
    "out_degrees = compute_degrees(torch.flip(edge_index_source_sink, dims=[0]), num_instances)\n",
    "\n",
    "source2net_degrees = compute_degrees(edge_index_source_to_net, len(net_hpwl[\"hpwl\"]) + num_instances)\n",
    "sink2net_degrees = compute_degrees(edge_index_sink_to_net, len(net_hpwl[\"hpwl\"]) + num_instances)\n",
    "\n",
    "source2net_inst_degrees = source2net_degrees[:num_instances]\n",
    "sink2net_inst_degrees = sink2net_degrees[:num_instances]\n",
    "\n",
    "source2net_net_degrees = source2net_degrees[num_instances:]\n",
    "sink2net_net_degrees = sink2net_degrees[num_instances:]"
   ]
  },
  {
   "cell_type": "code",
   "execution_count": 14,
   "id": "620d739e-4693-429b-925d-e52445c527e4",
   "metadata": {},
   "outputs": [],
   "source": [
    "node_features = np.vstack([node_type_id, in_degrees, out_degrees, source2net_inst_degrees, sink2net_inst_degrees, node_size_x, node_size_y, node_loc_x, node_loc_y]).T  \n",
    "batch = [part_dict[idx] for idx in range(node_features.shape[0])]\n",
    "num_vn = len(np.unique(batch))\n",
    "batch = torch.tensor(batch).long()"
   ]
  },
  {
   "cell_type": "code",
   "execution_count": 15,
   "id": "51e9ca8e-7f5f-42d8-a332-2c8a1b6d654f",
   "metadata": {},
   "outputs": [],
   "source": [
    "node_features = np.concatenate([node_features, eig_vec], axis=1)"
   ]
  },
  {
   "cell_type": "code",
   "execution_count": 16,
   "id": "3d483799-4c96-4bce-9197-915c0d699608",
   "metadata": {},
   "outputs": [],
   "source": [
    "node_features = torch.tensor(node_features).float()"
   ]
  },
  {
   "cell_type": "code",
   "execution_count": 17,
   "id": "db73d58f-886d-49f0-a89c-31b8693c8faa",
   "metadata": {},
   "outputs": [],
   "source": [
    "net_features = torch.tensor(np.vstack([source2net_degrees, sink2net_degrees]).T).float()"
   ]
  },
  {
   "cell_type": "code",
   "execution_count": 18,
   "id": "5ffb58a2-fb8f-4687-8099-d6e8149de646",
   "metadata": {},
   "outputs": [],
   "source": [
    "data = Data(\n",
    "            node_features = node_features, \n",
    "            net_features = net_features, \n",
    "            edge_index_source_sink = edge_index_source_sink,\n",
    "            edge_index_sink_to_net = edge_index_sink_to_net, \n",
    "            edge_index_source_to_net = edge_index_source_to_net, \n",
    "            node_congestion = torch.tensor(target_node_congestion_level).long(), \n",
    "            net_hpwl = torch.tensor(target_net_hpwl).float(),\n",
    "            batch = batch, \n",
    "            num_vn = num_vn\n",
    "                )"
   ]
  },
  {
   "cell_type": "code",
   "execution_count": 19,
   "id": "cfb049da-6ac9-4f84-a88b-6d6a4c98b40a",
   "metadata": {},
   "outputs": [],
   "source": [
    "device=\"cpu\"\n",
    "model = DEHNN(4, 32, 8, 1, node_dim = data.node_features.shape[1], net_dim = data.net_features.shape[1], num_nodes=num_instances).to(device)\n",
    "\n"
   ]
  },
  {
   "cell_type": "code",
   "execution_count": 20,
   "id": "467045af-a500-4822-8592-8fd49360c72b",
   "metadata": {},
   "outputs": [],
   "source": [
    "criterion_node = nn.CrossEntropyLoss()\n",
    "criterion_net = nn.MSELoss()\n",
    "optimizer = optim.Adam(model.parameters(), lr=0.001)"
   ]
  },
  {
   "cell_type": "code",
   "execution_count": null,
   "id": "861e289d-1aca-41a5-a72e-bf252d3dbaca",
   "metadata": {},
   "outputs": [],
   "source": [
    "losses = []\n",
    "for epoch in range(100):\n",
    "    model.train()\n",
    "    optimizer.zero_grad()\n",
    "    node_representation, net_representation = model(data, device)\n",
    "    loss_node = criterion_node(node_representation, data.node_congestion.to(device))\n",
    "    loss_net = criterion_net(net_representation.flatten(), data.net_hpwl.to(device))\n",
    "    loss = loss_node + 0.001*loss_net\n",
    "    loss.backward()\n",
    "    optimizer.step()   \n",
    "    \n",
    "    model.eval()\n",
    "    node_representation, net_representation = model(data, device)\n",
    "    val_loss_node = criterion_node(node_representation, data.node_congestion.to(device))\n",
    "    val_loss_net = criterion_net(net_representation.flatten(), data.net_hpwl.to(device))\n",
    "    losses.append()\n",
    "    if epoch % 10 == 0:\n",
    "        print(val_loss_node.item(), val_loss_net.item())"
   ]
  },
  {
   "cell_type": "code",
   "execution_count": null,
   "id": "11336ed8-90cf-4339-8b53-4eb24afe5e02",
   "metadata": {},
   "outputs": [],
   "source": []
  }
 ],
 "metadata": {
  "kernelspec": {
   "display_name": "capstone",
   "language": "python",
   "name": "capstone"
  },
  "language_info": {
   "codemirror_mode": {
    "name": "ipython",
    "version": 3
   },
   "file_extension": ".py",
   "mimetype": "text/x-python",
   "name": "python",
   "nbconvert_exporter": "python",
   "pygments_lexer": "ipython3",
   "version": "3.11.10"
  }
 },
 "nbformat": 4,
 "nbformat_minor": 5
}
