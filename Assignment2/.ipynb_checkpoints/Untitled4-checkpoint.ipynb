{
 "cells": [
  {
   "cell_type": "code",
   "execution_count": 54,
   "id": "e9665585-4e4e-47d3-b445-fc1fcffc83fe",
   "metadata": {},
   "outputs": [
    {
     "name": "stdout",
     "output_type": "stream",
     "text": [
      "The autoreload extension is already loaded. To reload it, use:\n",
      "  %reload_ext autoreload\n"
     ]
    }
   ],
   "source": [
    "import os\n",
    "import numpy as np\n",
    "import pickle\n",
    "import torch\n",
    "import torch.nn\n",
    "import sys\n",
    "\n",
    "%load_ext autoreload\n",
    "%autoreload 2\n",
    "\n",
    "from scipy.sparse.linalg import eigsh\n",
    "from numpy.linalg import eigvals\n",
    "from torch_geometric.utils import (get_laplacian, to_scipy_sparse_matrix, to_undirected, to_dense_adj)\n",
    "from collections import defaultdict\n",
    "\n",
    "from sklearn.model_selection import train_test_split\n",
    "\n",
    "from tqdm import tqdm\n",
    "from collections import defaultdict\n",
    "from torch_geometric.data import Dataset\n",
    "from torch_geometric.data import Data\n",
    "\n",
    "from tqdm import tqdm\n",
    "from model import GNN_node\n",
    "\n",
    "from torch_geometric.data import Dataset\n",
    "from torch_geometric.data import Data, HeteroData\n",
    "from torch_geometric.loader import NeighborLoader\n",
    "from torch_geometric.nn.conv.gcn_conv import gcn_norm\n",
    "import torch.nn as nn\n",
    "import torch.optim as optim"
   ]
  },
  {
   "cell_type": "code",
   "execution_count": 55,
   "id": "6d5ca15d-1e93-42f3-97e8-ee944bbffaa5",
   "metadata": {},
   "outputs": [
    {
     "data": {
      "text/plain": [
       "{'instance_idx': array([224439, 224440, 224441, ..., 459388, 459287, 459389]),\n",
       " 'net_idx': array([     0,      0,      0, ..., 468886, 468887, 468887]),\n",
       " 'edge_attr': array([3, 3, 3, ..., 2, 1, 2]),\n",
       " 'edge_dir': array([0, 0, 0, ..., 1, 0, 1]),\n",
       " 'sample_name': '/data/zluo/new_data/superblue19/6/',\n",
       " 'folder': '/data/zluo/new_data/superblue18/2/',\n",
       " 'design': 'superblue18',\n",
       " 'edge_index': array([[     0,      0,      0, ..., 459388, 468887, 459389],\n",
       "        [224439, 224440, 224441, ..., 468886, 459287, 468887]])}"
      ]
     },
     "execution_count": 55,
     "metadata": {},
     "output_type": "execute_result"
    }
   ],
   "source": [
    "with open(os.path.join('superblue18/40.bipartite.pkl'), 'rb') as f:\n",
    "                    bipartite = pickle.load(f)\n",
    "bipartite"
   ]
  },
  {
   "cell_type": "code",
   "execution_count": 56,
   "id": "6656043a-ae77-4d44-b865-be329516b923",
   "metadata": {},
   "outputs": [
    {
     "data": {
      "text/plain": [
       "{'num_instances': 459495,\n",
       " 'num_nets': 468888,\n",
       " 'x_min': 1920,\n",
       " 'x_max': 5042400,\n",
       " 'y_min': 3330,\n",
       " 'y_max': 5044950,\n",
       " 'min_cell_width': 1920,\n",
       " 'max_cell_width': 19211520,\n",
       " 'min_cell_height': 13320,\n",
       " 'max_cell_height': 20601600,\n",
       " 'instance_features': array([[4.65003333e-01, 6.78996037e-01, 2.34000000e+02, 3.99800100e-04,\n",
       "         0.00000000e+00, 0.00000000e+00],\n",
       "        [4.61098943e-01, 6.75033025e-01, 1.89000000e+02, 3.99800100e-04,\n",
       "         0.00000000e+00, 6.00000000e+00],\n",
       "        [4.13293972e-01, 6.88243065e-01, 2.32000000e+02, 3.99800100e-04,\n",
       "         0.00000000e+00, 0.00000000e+00],\n",
       "        ...,\n",
       "        [6.10703743e-01, 9.41875826e-01, 6.00000000e+00, 1.59920040e-03,\n",
       "         0.00000000e+00, 6.00000000e+00],\n",
       "        [6.13560613e-01, 9.39233818e-01, 6.00000000e+00, 1.59920040e-03,\n",
       "         0.00000000e+00, 6.00000000e+00],\n",
       "        [6.27464051e-01, 9.65653897e-01, 6.00000000e+00, 1.59920040e-03,\n",
       "         0.00000000e+00, 0.00000000e+00]]),\n",
       " 'sample_name': '/data/zluo/new_data/superblue19/6/',\n",
       " 'folder': '/data/zluo/new_data/superblue18/2/',\n",
       " 'design': 'superblue18'}"
      ]
     },
     "execution_count": 56,
     "metadata": {},
     "output_type": "execute_result"
    }
   ],
   "source": [
    "with open(os.path.join('superblue18/40.node_features.pkl'), 'rb') as f:\n",
    "                    node_features = pickle.load(f)\n",
    "node_features"
   ]
  },
  {
   "cell_type": "code",
   "execution_count": 57,
   "id": "a51c7cbb-2cb8-4556-a927-fdd0b01db33c",
   "metadata": {},
   "outputs": [],
   "source": [
    "with open(os.path.join('superblue18/40.net_features.pkl'), 'rb') as f:\n",
    "                    net_features = pickle.load(f)\n"
   ]
  },
  {
   "cell_type": "code",
   "execution_count": 58,
   "id": "00588fd0-45ec-4075-ab70-9f7b164492fb",
   "metadata": {},
   "outputs": [],
   "source": [
    "with open(os.path.join('superblue18/40.targets.pkl'), 'rb') as f:\n",
    "                    targets = pickle.load(f)\n",
    "#targets"
   ]
  },
  {
   "cell_type": "code",
   "execution_count": 59,
   "id": "9e27d17b-3e25-46cd-aa94-60d435fa28a2",
   "metadata": {},
   "outputs": [],
   "source": [
    "with open(os.path.join('superblue18/40.net_hpwl.pkl'), 'rb') as f:\n",
    "                    net_hpwl = pickle.load(f)\n",
    "#net_hpwl"
   ]
  },
  {
   "cell_type": "code",
   "execution_count": 60,
   "id": "7c515586-0370-4cc7-9846-9f38c8233543",
   "metadata": {},
   "outputs": [],
   "source": [
    "with open(os.path.join('superblue18/40.pl_part_dict.pkl'), 'rb') as f:\n",
    "                    part_dict = pickle.load(f)"
   ]
  },
  {
   "cell_type": "code",
   "execution_count": 61,
   "id": "8aa1cae9-0f4f-434a-af56-f466f3a970ed",
   "metadata": {},
   "outputs": [],
   "source": [
    "net2sink = np.empty(node_features[\"num_nets\"], dtype=object)\n",
    "net2source = np.empty(node_features[\"num_nets\"], dtype=object)\n",
    "\n",
    "# Initialize each entry as an empty list\n",
    "for i in range(node_features[\"num_nets\"]):\n",
    "    net2sink[i] = []\n",
    "    net2source[i] = 0\n",
    "\n",
    "# Iterate over each edge in the dataset\n",
    "for i in range(len(bipartite['instance_idx'])):\n",
    "    instance_idx = bipartite['instance_idx'][i]\n",
    "    net_idx = bipartite['net_idx'][i]\n",
    "    edge_dir = bipartite['edge_dir'][i]\n",
    "\n",
    "    if edge_dir == 0:\n",
    "        net2sink[net_idx].append(instance_idx)\n",
    "    else:\n",
    "        # If edge_dir is 1, add instance_idx to node2source\n",
    "        net2source[net_idx] = instance_idx\n"
   ]
  },
  {
   "cell_type": "code",
   "execution_count": 62,
   "id": "e148baa4-faad-4e6a-b63f-d0e0b3ca94be",
   "metadata": {},
   "outputs": [],
   "source": [
    "node_type_id = np.array(range(node_features[\"num_instances\"]))\n",
    "node_loc_x = np.array(node_features[\"instance_features\"][:,0])\n",
    "node_loc_y = np.array(node_features[\"instance_features\"][:,1])\n",
    "node_size_x = np.array(node_features[\"instance_features\"][:,3])\n",
    "node_size_y = np.array(node_features[\"instance_features\"][:,4])"
   ]
  },
  {
   "cell_type": "code",
   "execution_count": 63,
   "id": "2a932e42-7395-4288-af97-5a339f92c525",
   "metadata": {},
   "outputs": [],
   "source": [
    "edge_index = []\n",
    "    \n",
    "for net_idx in range(len(net2sink)):\n",
    "    sink_idx_lst = net2sink[net_idx]\n",
    "    source_idx = net2source[net_idx]\n",
    "\n",
    "    for sink_idx in sink_idx_lst:\n",
    "        edge_index.append([source_idx, sink_idx])\n",
    "        edge_index.append([sink_idx, source_idx])\n",
    "\n",
    "edge_index = torch.tensor(edge_index).T.long()\n",
    "\n",
    "num_instances = len(node_loc_x)\n",
    "\n",
    "L = to_scipy_sparse_matrix(\n",
    "    *get_laplacian(edge_index, normalization=\"sym\", num_nodes = num_instances)\n",
    ")\n",
    "\n",
    "k = 10\n",
    "evals, evects = eigsh(L, k = k, which='SM')\n",
    "eig_vec = evects"
   ]
  },
  {
   "cell_type": "code",
   "execution_count": 64,
   "id": "5337bec6-0d00-4b78-84fb-45ddc390e26a",
   "metadata": {},
   "outputs": [],
   "source": [
    "target_net_hpwl = net_hpwl[\"hpwl\"]\n",
    "target_node_congestion_level = targets[\"demand\"]"
   ]
  },
  {
   "cell_type": "code",
   "execution_count": 65,
   "id": "f80f95d3-3a25-4491-9196-3a393c6b2d7b",
   "metadata": {},
   "outputs": [],
   "source": [
    "def compute_degrees(edge_index, num_nodes):\n",
    "    # Create a degree tensor initialized to zero\n",
    "    degree = torch.zeros(num_nodes, dtype=torch.long)\n",
    "    \n",
    "    # Count the number of edges connected to each node\n",
    "    degree.scatter_add_(0, edge_index[0], torch.ones(edge_index.size(1), dtype=torch.long))\n",
    "    \n",
    "    return degree"
   ]
  },
  {
   "cell_type": "code",
   "execution_count": 66,
   "id": "622c1a6f-3fc7-4378-abbb-eb000f85c318",
   "metadata": {},
   "outputs": [],
   "source": [
    "num_instances = len(node_type_id)\n",
    "assert len(node_loc_x) == num_instances\n",
    "assert len(node_loc_y) == num_instances\n",
    "assert len(node_size_x) == num_instances\n",
    "assert len(node_size_y) == num_instances\n",
    "assert len(eig_vec) == num_instances\n",
    "assert len(target_node_congestion_level) == num_instances\n",
    "\n",
    "edge_index_source_sink = []\n",
    "#edge_index_sink_source = []\n",
    "edge_index_sink_to_net = []\n",
    "edge_index_source_to_net = []\n",
    "\n",
    "for net_idx in range(len(net2sink)):\n",
    "    sink_idx_lst = net2sink[net_idx]\n",
    "    source_idx = net2source[net_idx]\n",
    "\n",
    "    for sink_idx in sink_idx_lst:\n",
    "        edge_index_sink_to_net.append([sink_idx, net_idx + num_instances])\n",
    "        edge_index_source_sink.append([source_idx, sink_idx])\n",
    "\n",
    "    edge_index_source_to_net.append([source_idx, net_idx + num_instances])\n",
    "    \n",
    "edge_index_source_sink = torch.tensor(edge_index_source_sink).T.long()\n",
    "edge_index_source_to_net = torch.tensor(edge_index_source_to_net).T.long()\n",
    "edge_index_sink_to_net = torch.tensor(edge_index_sink_to_net).T.long()\n",
    "\n",
    "in_degrees = compute_degrees(edge_index_source_sink, num_instances)\n",
    "out_degrees = compute_degrees(torch.flip(edge_index_source_sink, dims=[0]), num_instances)\n",
    "\n",
    "source2net_degrees = compute_degrees(edge_index_source_to_net, len(net_hpwl[\"hpwl\"]) + num_instances)\n",
    "sink2net_degrees = compute_degrees(edge_index_sink_to_net, len(net_hpwl[\"hpwl\"]) + num_instances)\n",
    "\n",
    "source2net_inst_degrees = source2net_degrees[:num_instances]\n",
    "sink2net_inst_degrees = sink2net_degrees[:num_instances]\n",
    "\n",
    "source2net_net_degrees = source2net_degrees[num_instances:]\n",
    "sink2net_net_degrees = sink2net_degrees[num_instances:]"
   ]
  },
  {
   "cell_type": "code",
   "execution_count": 67,
   "id": "620d739e-4693-429b-925d-e52445c527e4",
   "metadata": {},
   "outputs": [],
   "source": [
    "node_features = np.vstack([node_type_id, in_degrees, out_degrees, source2net_inst_degrees, sink2net_inst_degrees, node_size_x, node_size_y, node_loc_x, node_loc_y]).T  \n",
    "batch = [part_dict[idx] for idx in range(node_features.shape[0])]\n",
    "num_vn = len(np.unique(batch))\n",
    "batch = torch.tensor(batch).long()"
   ]
  },
  {
   "cell_type": "code",
   "execution_count": 68,
   "id": "51e9ca8e-7f5f-42d8-a332-2c8a1b6d654f",
   "metadata": {},
   "outputs": [],
   "source": [
    "node_features = np.concatenate([node_features, eig_vec], axis=1)"
   ]
  },
  {
   "cell_type": "code",
   "execution_count": 69,
   "id": "3d483799-4c96-4bce-9197-915c0d699608",
   "metadata": {},
   "outputs": [],
   "source": [
    "node_features = torch.tensor(node_features).float()"
   ]
  },
  {
   "cell_type": "code",
   "execution_count": 70,
   "id": "db73d58f-886d-49f0-a89c-31b8693c8faa",
   "metadata": {},
   "outputs": [],
   "source": [
    "net_features = torch.tensor(np.vstack([source2net_degrees, sink2net_degrees]).T).float()"
   ]
  },
  {
   "cell_type": "code",
   "execution_count": 71,
   "id": "5ffb58a2-fb8f-4687-8099-d6e8149de646",
   "metadata": {},
   "outputs": [],
   "source": [
    "data = Data(\n",
    "            node_features = node_features, \n",
    "            net_features = net_features, \n",
    "            edge_index_source_sink = edge_index_source_sink,\n",
    "            edge_index_sink_to_net = edge_index_sink_to_net, \n",
    "            edge_index_source_to_net = edge_index_source_to_net, \n",
    "            node_congestion = torch.tensor(target_node_congestion_level).long(), \n",
    "            net_hpwl = torch.tensor(target_net_hpwl).float(),\n",
    "            batch = batch, \n",
    "            num_vn = num_vn\n",
    "                )"
   ]
  },
  {
   "cell_type": "code",
   "execution_count": 72,
   "id": "f7b23bd8-f20b-49e7-bc2e-e3f5a208f08b",
   "metadata": {},
   "outputs": [
    {
     "data": {
      "text/plain": [
       "Data(node_features=[459495, 19], net_features=[928383, 2], edge_index_source_sink=[2, 1477542], edge_index_sink_to_net=[2, 1477542], edge_index_source_to_net=[2, 468888], node_congestion=[459495], net_hpwl=[468888], batch=[459495], num_vn=43)"
      ]
     },
     "execution_count": 72,
     "metadata": {},
     "output_type": "execute_result"
    }
   ],
   "source": [
    "data"
   ]
  },
  {
   "cell_type": "code",
   "execution_count": 73,
   "id": "cfb049da-6ac9-4f84-a88b-6d6a4c98b40a",
   "metadata": {},
   "outputs": [],
   "source": [
    "device=\"cpu\"\n",
    "model = GNN_node(4, 32, 8, 1, node_dim = data.node_features.shape[1], net_dim = data.net_features.shape[1], num_nodes=num_instances).to(device)\n",
    "\n"
   ]
  },
  {
   "cell_type": "code",
   "execution_count": 74,
   "id": "467045af-a500-4822-8592-8fd49360c72b",
   "metadata": {},
   "outputs": [],
   "source": [
    "criterion_node = nn.CrossEntropyLoss()\n",
    "criterion_net = nn.MSELoss()\n",
    "optimizer = optim.Adam(model.parameters(), lr=0.001)"
   ]
  },
  {
   "cell_type": "code",
   "execution_count": null,
   "id": "861e289d-1aca-41a5-a72e-bf252d3dbaca",
   "metadata": {},
   "outputs": [],
   "source": [
    "for epoch in range(100):\n",
    "    model.train()\n",
    "    optimizer.zero_grad()\n",
    "    node_representation, net_representation = model(data, device)\n",
    "    loss_node = criterion_node(node_representation, data.node_congestion.to(device))\n",
    "    loss_net = criterion_net(net_representation.flatten(), data.net_hpwl.to(device))\n",
    "    loss = loss_node + 0.001*loss_net\n",
    "    loss.backward()\n",
    "    optimizer.step()   \n",
    "    \n",
    "    model.eval()\n",
    "    node_representation, net_representation = model(data, device)\n",
    "    val_loss_node = criterion_node(node_representation, data.node_congestion.to(device))\n",
    "    val_loss_net = criterion_net(net_representation.flatten(), data.net_hpwl.to(device))\n",
    "    print(val_loss_node.item(), val_loss_net.item())"
   ]
  },
  {
   "cell_type": "code",
   "execution_count": null,
   "id": "099bafa3-6e61-4eff-9cdb-1d4bca177a6f",
   "metadata": {},
   "outputs": [],
   "source": [
    "data[\"node_features\"].shape[0]"
   ]
  },
  {
   "cell_type": "code",
   "execution_count": null,
   "id": "3ebe5ebd-e88d-435c-a74b-8382a2c01d8c",
   "metadata": {},
   "outputs": [],
   "source": [
    "data"
   ]
  },
  {
   "cell_type": "code",
   "execution_count": 26,
   "id": "982e39b6-dab5-4d84-bfd9-886a2ef0e7ba",
   "metadata": {},
   "outputs": [
    {
     "data": {
      "text/plain": [
       "937776"
      ]
     },
     "execution_count": 26,
     "metadata": {},
     "output_type": "execute_result"
    }
   ],
   "source": [
    "sink2net_"
   ]
  },
  {
   "cell_type": "code",
   "execution_count": null,
   "id": "19e67e56-9acc-47ec-9a9c-47285d3d696e",
   "metadata": {},
   "outputs": [],
   "source": [
    "net_hpwl"
   ]
  },
  {
   "cell_type": "code",
   "execution_count": null,
   "id": "11336ed8-90cf-4339-8b53-4eb24afe5e02",
   "metadata": {},
   "outputs": [],
   "source": []
  }
 ],
 "metadata": {
  "kernelspec": {
   "display_name": "capstone",
   "language": "python",
   "name": "capstone"
  },
  "language_info": {
   "codemirror_mode": {
    "name": "ipython",
    "version": 3
   },
   "file_extension": ".py",
   "mimetype": "text/x-python",
   "name": "python",
   "nbconvert_exporter": "python",
   "pygments_lexer": "ipython3",
   "version": "3.11.10"
  }
 },
 "nbformat": 4,
 "nbformat_minor": 5
}
