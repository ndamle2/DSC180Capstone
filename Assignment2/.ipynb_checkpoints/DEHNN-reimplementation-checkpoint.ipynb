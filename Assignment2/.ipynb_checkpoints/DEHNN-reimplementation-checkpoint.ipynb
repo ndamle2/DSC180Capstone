{
 "cells": [
  {
   "cell_type": "code",
   "execution_count": 1,
   "id": "e9665585-4e4e-47d3-b445-fc1fcffc83fe",
   "metadata": {},
   "outputs": [],
   "source": [
    "# imports\n",
    "import os\n",
    "import numpy as np\n",
    "import pickle\n",
    "import torch\n",
    "import torch.nn\n",
    "import sys\n",
    "\n",
    "%load_ext autoreload\n",
    "%autoreload 2\n",
    "\n",
    "from scipy.sparse.linalg import eigsh\n",
    "from numpy.linalg import eigvals\n",
    "from torch_geometric.utils import (get_laplacian, to_scipy_sparse_matrix, to_undirected, to_dense_adj)\n",
    "from collections import defaultdict\n",
    "\n",
    "from sklearn.model_selection import train_test_split\n",
    "\n",
    "from tqdm import tqdm\n",
    "from collections import defaultdict\n",
    "from torch_geometric.data import Dataset\n",
    "from torch_geometric.data import Data\n",
    "\n",
    "from tqdm import tqdm\n",
    "from model import DEHNN\n",
    "\n",
    "from torch_geometric.data import Dataset\n",
    "from torch_geometric.data import Data, HeteroData\n",
    "from torch_geometric.loader import NeighborLoader\n",
    "from torch_geometric.nn.conv.gcn_conv import gcn_norm\n",
    "import torch.nn as nn\n",
    "import torch.optim as optim\n",
    "import matplotlib.pyplot as plt"
   ]
  },
  {
   "cell_type": "markdown",
   "id": "2e280616-0294-4dfa-b183-89ee183a0407",
   "metadata": {},
   "source": [
    "## Data Processing"
   ]
  },
  {
   "cell_type": "code",
   "execution_count": 3,
   "id": "6d5ca15d-1e93-42f3-97e8-ee944bbffaa5",
   "metadata": {},
   "outputs": [],
   "source": [
    "# load in data from various pickle files\n",
    "with open(os.path.join('superblue18/40.bipartite.pkl'), 'rb') as f:\n",
    "                    bipartite = pickle.load(f)\n",
    "with open(os.path.join('superblue18/40.node_features.pkl'), 'rb') as f:\n",
    "                    node_features = pickle.load(f)\n",
    "with open(os.path.join('superblue18/40.net_features.pkl'), 'rb') as f:\n",
    "                    net_features = pickle.load(f)\n",
    "with open(os.path.join('superblue18/40.targets.pkl'), 'rb') as f:\n",
    "                    targets = pickle.load(f)\n",
    "with open(os.path.join('superblue18/40.net_hpwl.pkl'), 'rb') as f:\n",
    "                    net_hpwl = pickle.load(f)\n",
    "with open(os.path.join('superblue18/40.pl_part_dict.pkl'), 'rb') as f:\n",
    "                    part_dict = pickle.load(f)"
   ]
  },
  {
   "cell_type": "code",
   "execution_count": 4,
   "id": "8aa1cae9-0f4f-434a-af56-f466f3a970ed",
   "metadata": {},
   "outputs": [],
   "source": [
    "# initialize as  empty arrays\n",
    "net2sink = np.empty(node_features[\"num_nets\"], dtype=object)\n",
    "net2source = np.empty(node_features[\"num_nets\"], dtype=object)\n",
    "\n",
    "# Initialize net2sink entrys as empty lists (because multiple sinks), and 0 for net2source\n",
    "for i in range(node_features[\"num_nets\"]):\n",
    "    net2sink[i] = []\n",
    "    net2source[i] = 0\n",
    "\n",
    "# Iterate over each edge in the dataset\n",
    "for i in range(len(bipartite['instance_idx'])):\n",
    "    instance_idx = bipartite['instance_idx'][i]\n",
    "    net_idx = bipartite['net_idx'][i]\n",
    "    edge_dir = bipartite['edge_dir'][i]\n",
    "\n",
    "    # depending on node direction, add to sink or source lists\n",
    "    if edge_dir == 0:\n",
    "        net2sink[net_idx].append(instance_idx)\n",
    "    else:\n",
    "        net2source[net_idx] = instance_idx\n"
   ]
  },
  {
   "cell_type": "code",
   "execution_count": 5,
   "id": "e148baa4-faad-4e6a-b63f-d0e0b3ca94be",
   "metadata": {},
   "outputs": [],
   "source": [
    "# create arrays of node features based on data loaded in\n",
    "node_type_id = np.array(range(node_features[\"num_instances\"]))\n",
    "node_loc_x = np.array(node_features[\"instance_features\"][:,0])\n",
    "node_loc_y = np.array(node_features[\"instance_features\"][:,1])\n",
    "node_size_x = np.array(node_features[\"instance_features\"][:,3])\n",
    "node_size_y = np.array(node_features[\"instance_features\"][:,4])"
   ]
  },
  {
   "cell_type": "code",
   "execution_count": 6,
   "id": "2a932e42-7395-4288-af97-5a339f92c525",
   "metadata": {},
   "outputs": [],
   "source": [
    "# use laplacian matrix to get spatial encodings\n",
    "edge_index = []    \n",
    "for net_idx in range(len(net2sink)):\n",
    "    sink_idx_lst = net2sink[net_idx]\n",
    "    source_idx = net2source[net_idx]\n",
    "\n",
    "    for sink_idx in sink_idx_lst:\n",
    "        edge_index.append([source_idx, sink_idx])\n",
    "        edge_index.append([sink_idx, source_idx])\n",
    "\n",
    "edge_index = torch.tensor(edge_index).T.long()\n",
    "\n",
    "num_instances = len(node_loc_x)\n",
    "\n",
    "L = to_scipy_sparse_matrix(\n",
    "    *get_laplacian(edge_index, normalization=\"sym\", num_nodes = num_instances)\n",
    ")\n",
    "\n",
    "k = 10\n",
    "evals, eig_vec = eigsh(L, k = k, which='SM')\n"
   ]
  },
  {
   "cell_type": "code",
   "execution_count": 7,
   "id": "5337bec6-0d00-4b78-84fb-45ddc390e26a",
   "metadata": {},
   "outputs": [],
   "source": [
    "# load in target variables for predictive tasks\n",
    "target_net_hpwl = net_hpwl[\"hpwl\"]\n",
    "target_node_congestion_level = targets[\"demand\"]"
   ]
  },
  {
   "cell_type": "code",
   "execution_count": 8,
   "id": "f80f95d3-3a25-4491-9196-3a393c6b2d7b",
   "metadata": {},
   "outputs": [],
   "source": [
    "# function to compute degrees\n",
    "def compute_degrees(edge_index, num_nodes):\n",
    "    # Create a degree tensor initialized to zero\n",
    "    degree = torch.zeros(num_nodes, dtype=torch.long)\n",
    "    \n",
    "    # Count the number of edges connected to each node\n",
    "    degree.scatter_add_(0, edge_index[0], torch.ones(edge_index.size(1), dtype=torch.long))\n",
    "    \n",
    "    return degree"
   ]
  },
  {
   "cell_type": "code",
   "execution_count": 9,
   "id": "622c1a6f-3fc7-4378-abbb-eb000f85c318",
   "metadata": {},
   "outputs": [],
   "source": [
    "# initialize empty lists for all edge indexing\n",
    "num_instances = len(node_type_id)\n",
    "edge_index_source_sink = []\n",
    "edge_index_sink_to_net = []\n",
    "edge_index_source_to_net = []\n",
    "\n",
    "# compile edges from sink to net and source to sink\n",
    "for net_idx in range(len(net2sink)):\n",
    "    sink_idx_lst = net2sink[net_idx]\n",
    "    source_idx = net2source[net_idx]\n",
    "    for sink_idx in sink_idx_lst:\n",
    "        edge_index_sink_to_net.append([sink_idx, net_idx + num_instances])\n",
    "        edge_index_source_sink.append([source_idx, sink_idx])\n",
    "    edge_index_source_to_net.append([source_idx, net_idx + num_instances])\n",
    "    \n",
    "# convert all edge index lists to long type tensors for easier future analysis\n",
    "edge_index_source_sink = torch.tensor(edge_index_source_sink).T.long()\n",
    "edge_index_source_to_net = torch.tensor(edge_index_source_to_net).T.long()\n",
    "edge_index_sink_to_net = torch.tensor(edge_index_sink_to_net).T.long()\n",
    "\n",
    "# compute in-degree and out-degree\n",
    "in_degrees = compute_degrees(edge_index_source_sink, num_instances)\n",
    "out_degrees = compute_degrees(torch.flip(edge_index_source_sink, dims=[0]), num_instances)\n",
    "\n",
    "# compute degrees for instances and nodes for source and sink to net\n",
    "source2net_degrees = compute_degrees(edge_index_source_to_net, len(net_hpwl[\"hpwl\"]) + num_instances)\n",
    "sink2net_degrees = compute_degrees(edge_index_sink_to_net, len(net_hpwl[\"hpwl\"]) + num_instances)\n",
    "\n",
    "# extract the degrees for instances from source to net and sink to net degrees\n",
    "source2net_inst_degrees = source2net_degrees[:num_instances]\n",
    "sink2net_inst_degrees = sink2net_degrees[:num_instances]\n",
    "\n",
    "# extract the degrees for nets from source-to-net and sink-to-net degrees\n",
    "source2net_net_degrees = source2net_degrees[num_instances:]\n",
    "sink2net_net_degrees = sink2net_degrees[num_instances:]"
   ]
  },
  {
   "cell_type": "code",
   "execution_count": 10,
   "id": "620d739e-4693-429b-925d-e52445c527e4",
   "metadata": {},
   "outputs": [],
   "source": [
    "# create node features\n",
    "node_features = np.vstack([node_type_id, in_degrees, out_degrees, source2net_inst_degrees, sink2net_inst_degrees, node_size_x, node_size_y, node_loc_x, node_loc_y]).T  \n",
    "# define batch and node parameters\n",
    "batch = [part_dict[idx] for idx in range(node_features.shape[0])]\n",
    "num_vn = len(np.unique(batch))\n",
    "batch = torch.tensor(batch).long()"
   ]
  },
  {
   "cell_type": "code",
   "execution_count": 11,
   "id": "51e9ca8e-7f5f-42d8-a332-2c8a1b6d654f",
   "metadata": {},
   "outputs": [],
   "source": [
    "# combine node features with eigenvector spatial encoding, convert to float\n",
    "node_features = np.concatenate([node_features, eig_vec], axis=1)\n",
    "node_features = torch.tensor(node_features).float()"
   ]
  },
  {
   "cell_type": "code",
   "execution_count": 12,
   "id": "db73d58f-886d-49f0-a89c-31b8693c8faa",
   "metadata": {},
   "outputs": [],
   "source": [
    "# create net features by combining degrees of source2net and sink2net\n",
    "net_features = torch.tensor(np.vstack([source2net_degrees, sink2net_degrees]).T).float()"
   ]
  },
  {
   "cell_type": "code",
   "execution_count": 13,
   "id": "5ffb58a2-fb8f-4687-8099-d6e8149de646",
   "metadata": {},
   "outputs": [],
   "source": [
    "# create Data object to hold all data for model\n",
    "data = Data(\n",
    "            node_features = node_features, \n",
    "            net_features = net_features, \n",
    "            edge_index_source_sink = edge_index_source_sink,\n",
    "            edge_index_sink_to_net = edge_index_sink_to_net, \n",
    "            edge_index_source_to_net = edge_index_source_to_net, \n",
    "            node_congestion = torch.tensor(target_node_congestion_level).float(), \n",
    "            net_hpwl = torch.tensor(target_net_hpwl).float(),\n",
    "            batch = batch, \n",
    "            num_vn = num_vn\n",
    "                )"
   ]
  },
  {
   "cell_type": "markdown",
   "id": "a2a86963-0732-410a-b943-c5f160cf2f08",
   "metadata": {},
   "source": [
    "## Modeling for Demand"
   ]
  },
  {
   "cell_type": "code",
   "execution_count": 15,
   "id": "cfb049da-6ac9-4f84-a88b-6d6a4c98b40a",
   "metadata": {},
   "outputs": [],
   "source": [
    "# initialize DEHNN nodel with layers, dimensions, etc.\n",
    "device=\"cpu\"\n",
    "model = DEHNN(3, 24, 8, node_dim = data.node_features.shape[1], net_dim = data.net_features.shape[1], num_nodes=num_instances).to(device)"
   ]
  },
  {
   "cell_type": "code",
   "execution_count": 16,
   "id": "467045af-a500-4822-8592-8fd49360c72b",
   "metadata": {},
   "outputs": [],
   "source": [
    "# define loss criterion and optimizer (learning rate hyperparameter)\n",
    "criterion_demand = nn.MSELoss()\n",
    "optimizer = optim.Adam(model.parameters(), lr=0.0001)"
   ]
  },
  {
   "cell_type": "code",
   "execution_count": 17,
   "id": "861e289d-1aca-41a5-a72e-bf252d3dbaca",
   "metadata": {},
   "outputs": [
    {
     "name": "stdout",
     "output_type": "stream",
     "text": [
      "0 1129.8807373046875\n",
      "10 341.9598693847656\n",
      "20 225.63619995117188\n",
      "30 127.73441314697266\n",
      "40 44.196495056152344\n"
     ]
    }
   ],
   "source": [
    "losses = []\n",
    "for epoch in range(50):\n",
    "    # train model\n",
    "    model.train()\n",
    "    optimizer.zero_grad()\n",
    "    node_representation, regression_output= model(data, device)\n",
    "    eps = 1e-6\n",
    "    # use RMSE as loss function (eps to avoid div by 0)\n",
    "    loss = torch.sqrt(criterion_demand(regression_output.flatten(), data.node_congestion.to(device)) + eps)\n",
    "    loss.backward()\n",
    "    optimizer.step()   \n",
    "\n",
    "    # evaluate model and store/display validation loss scores\n",
    "    model.eval()\n",
    "    node_representation, regression_output = model(data, device)\n",
    "    val_loss_demand = torch.sqrt(criterion_demand(regression_output.flatten(), data.node_congestion.to(device)) + eps)\n",
    "    losses.append(val_loss_demand.item())\n",
    "    if epoch % 10 == 0:\n",
    "        print(str(epoch) + \" \" + str(val_loss_demand.item()))"
   ]
  },
  {
   "cell_type": "code",
   "execution_count": 18,
   "id": "8ae224ec-ecd5-4ef0-97f8-232a6b094ffc",
   "metadata": {},
   "outputs": [
    {
     "data": {
      "text/plain": [
       "[<matplotlib.lines.Line2D at 0x14cec68e790>]"
      ]
     },
     "execution_count": 18,
     "metadata": {},
     "output_type": "execute_result"
    },
    {
     "data": {
      "image/png": "[encoded data removed]",
      "text/plain": [
       "<Figure size 640x480 with 1 Axes>"
      ]
     },
     "metadata": {},
     "output_type": "display_data"
    }
   ],
   "source": [
    "# plot curve of losses over epochs\n",
    "plt.plot(losses)"
   ]
  },
  {
   "cell_type": "code",
   "execution_count": null,
   "id": "1bc7d2a3-0ae8-4181-b43b-14419f672643",
   "metadata": {},
   "outputs": [],
   "source": []
  }
 ],
 "metadata": {
  "kernelspec": {
   "display_name": "neil-capstone",
   "language": "python",
   "name": "neil-capstone"
  },
  "language_info": {
   "codemirror_mode": {
    "name": "ipython",
    "version": 3
   },
   "file_extension": ".py",
   "mimetype": "text/x-python",
   "name": "python",
   "nbconvert_exporter": "python",
   "pygments_lexer": "ipython3",
   "version": "3.11.10"
  }
 },
 "nbformat": 4,
 "nbformat_minor": 5
}
